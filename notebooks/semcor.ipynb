{
 "cells": [
  {
   "cell_type": "code",
   "execution_count": 1,
   "id": "538f320c",
   "metadata": {},
   "outputs": [],
   "source": [
    "import collections\n",
    "import itertools\n",
    "import json\n",
    "import pathlib\n",
    "\n",
    "import torch\n",
    "import torch.nn.functional as F\n",
    "from torch.utils.data import DataLoader, Dataset\n",
    "\n",
    "import numpy as np\n",
    "import seaborn as sns\n",
    "sns.set(rc={'figure.figsize':(8,8)})\n",
    "import sklearn.metrics\n",
    "import tqdm"
   ]
  },
  {
   "cell_type": "code",
   "execution_count": 2,
   "id": "8e9c1d96",
   "metadata": {},
   "outputs": [],
   "source": [
    "PARENT = pathlib.Path(globals()['_dh'][0]).parent\n",
    "MODELS_PATH = PARENT / 'models-wsd'\n",
    "DATA_PATH = PARENT / 'data' / 'drop'\n",
    "KEYS_TO_SUM = ['ipt', 'norm', 'mha', 'ff']\n",
    "DEVICE = 'cpu'\n",
    "\n",
    "def powerset():\n",
    "    yield from (\n",
    "        # four singletons\n",
    "        ('ipt',),\n",
    "        ('mha',),\n",
    "        ('ff',),\n",
    "        ('norm',),\n",
    "        # six duals\n",
    "        ('ipt', 'mha',),\n",
    "        ('ipt', 'ff',),\n",
    "        ('ipt', 'norm',),\n",
    "        ('mha', 'ff'),\n",
    "        ('norm', 'mha',),\n",
    "        ('norm', 'ff',),\n",
    "        # four triplets\n",
    "        ('ipt', 'mha', 'ff'),\n",
    "        ('ipt', 'norm', 'mha',),\n",
    "        ('ipt', 'norm', 'ff',),\n",
    "        ('norm', 'mha', 'ff',),\n",
    "        # one full\n",
    "        ('ipt', 'norm', 'mha', 'ff',),\n",
    "        \n",
    "    )\n",
    "    # combinations = (\n",
    "    #    itertools.combinations(KEYS_TO_SUM, r)\n",
    "    #    for r in range(1, len(KEYS_TO_SUM) + 1)\n",
    "    #)\n",
    "    #yield from itertools.chain.from_iterable(combinations)\n",
    "\n",
    "DROP_MONOSEMOUS = True\n",
    "\n",
    "def build_refs():\n",
    "    \"\"\"build references for easier computations: dict {lemma -> [tags]}\"\"\"\n",
    "    refs = collections.defaultdict(set)\n",
    "    from nltk.corpus import semcor\n",
    "    for sentence in semcor.tagged_sents(tag='sem'):\n",
    "        for word in sentence:\n",
    "            try:\n",
    "                key = word.label().name()\n",
    "                value = word.label().key()\n",
    "                refs[key].add(value)\n",
    "            except AttributeError:\n",
    "                if type(word) not in (list, str):\n",
    "                    assert type(word.label()) == str\n",
    "                    key = word.label().split('.', 1)[0]\n",
    "                    value = word.label()\n",
    "                    refs[key].add(value)\n",
    "    if DROP_MONOSEMOUS:\n",
    "        return {\n",
    "            k: sorted(list(v))\n",
    "            for k, v in refs.items()\n",
    "            if len(v) > 1\n",
    "        }\n",
    "    return {\n",
    "        k: sorted(list(v))\n",
    "        for k, v in refs.items()\n",
    "    }\n",
    "\n",
    "def build_or_get_refs(REFS_FILENAME=\"../refs-semcor.json\"):\n",
    "    if pathlib.Path(REFS_FILENAME).is_file():\n",
    "        with open(REFS_FILENAME, 'r') as istr:\n",
    "            return json.load(istr)\n",
    "    else:\n",
    "        refs = build_refs()\n",
    "        with open(REFS_FILENAME, 'w') as ostr:\n",
    "            json.dump(refs, ostr)\n",
    "        return refs\n",
    "\n",
    "refs = build_or_get_refs()\n",
    "refs_itos = sorted(refs.keys())\n",
    "refs_stoi = {\n",
    "    lemma: idx\n",
    "    for idx, lemma in enumerate(refs_itos)\n",
    "}\n",
    "tags_stoi = {\n",
    "    tag: torch.tensor([idx], dtype=torch.long)\n",
    "    for idx, tag in enumerate(\n",
    "        item\n",
    "        for lemma in refs_stoi\n",
    "        for item in refs[lemma]\n",
    "    )\n",
    "}\n",
    "\n",
    "def build_lemma_mask(lemma):\n",
    "    mask = torch.tensor([True] * len(tags_stoi))\n",
    "    for valid_tag in refs[lemma]:\n",
    "        mask[tags_stoi[valid_tag].item()] = False\n",
    "    return mask\n",
    "\n",
    "lemma_masks = {\n",
    "    lemma: build_lemma_mask(lemma)\n",
    "    for lemma in refs_stoi\n",
    "}\n",
    "\n",
    "def overlap(a_start, a_end, b_start, b_end):\n",
    "    \"\"\"determine whether a and b overlap\"\"\"\n",
    "    return (a_start <= b_start and a_end > b_start) \\\n",
    "        or (a_start < b_end and a_end >= b_end) \\\n",
    "        or (a_start <= b_start and a_end >= b_end) \\\n",
    "        or (a_start >= b_start and a_end <= b_start)\n",
    "\n",
    "def toks_to_str(tokens):\n",
    "    \"\"\"return a clean str represnting the original tokens\"\"\"\n",
    "    return \" \".join(tokens).replace('``', '\"').replace(\"''\", '\"')\n",
    "\n",
    "    \n",
    "class BertFactorSemcorDataset(Dataset):\n",
    "    \"\"\"torch object for convenience\"\"\"\n",
    "    def __init__(self, file_name, tokenizer_=None, model_=None):\n",
    "        raise NotImplemented\n",
    "\n",
    "    def save(self, file):\n",
    "        torch.save(self, file)\n",
    "\n",
    "    @staticmethod\n",
    "    def load(file):\n",
    "        return torch.load(file)\n",
    "\n",
    "    def __getitem__(self, idx):\n",
    "        base_dict = self.items[idx]\n",
    "        if not 'tgt_idx' in base_dict:\n",
    "            base_dict['tgt_idx'] = tags_stoi[base_dict['tag']]\n",
    "            base_dict['tgt_idx'].requires_grad = False\n",
    "            base_dict['lemma_mask'] = lemma_masks[base_dict['lemma']]\n",
    "            base_dict['lemma_mask'].requires_grad = False\n",
    "        return base_dict\n",
    "\n",
    "    def __len__(self):\n",
    "        return len(self.items)\n"
   ]
  },
  {
   "cell_type": "code",
   "execution_count": 3,
   "id": "d6ce4a8a",
   "metadata": {},
   "outputs": [],
   "source": [
    "@torch.no_grad()\n",
    "def eval_model(keys_to_sum, model_name, dataset, return_preds=False):\n",
    "    wsd_model = torch.load(model_name, map_location='cpu')\n",
    "    pbar = tqdm.notebook.tqdm(dataset, desc=\"Test\", leave=False, disable=None)\n",
    "    all_true = []\n",
    "    all_preds = []\n",
    "    all_targets = []\n",
    "    wsd_model.eval()\n",
    "    running_loss, total_items = 0, 0\n",
    "    total_acc = 0\n",
    "    for batch in pbar:\n",
    "        all_ipts = sum(batch[key].to(DEVICE) for key in keys_to_sum)\n",
    "        mlp_output = wsd_model(all_ipts)\n",
    "        tgt = batch['tgt_idx'].view(-1).to(DEVICE)\n",
    "        all_targets.extend(tgt.tolist())\n",
    "        lemma_specific_output = mlp_output.masked_fill(batch['lemma_mask'].to(DEVICE), -float('inf'))\n",
    "        loss = F.cross_entropy(lemma_specific_output, tgt, reduction='sum')\n",
    "        lemma_preds = F.softmax(lemma_specific_output, dim=-1).argmax(dim=-1).view(-1)\n",
    "        all_preds.extend(lemma_preds.detach().tolist())\n",
    "        acc = (lemma_preds == tgt).sum()\n",
    "        running_loss += loss.item()\n",
    "        total_acc += acc.item()\n",
    "        total_items += batch['tgt_idx'].numel()\n",
    "        pbar.set_description(f\"Test (L={running_loss/total_items:.4f}, A={total_acc/total_items:.4f})\")\n",
    "    #new_f1 = sklearn.metrics.f1_score(all_true, all_preds, average='micro')\n",
    "    #print(model_subdir, model_name, new_f1)\n",
    "    if return_preds:\n",
    "        return all_preds\n",
    "    return total_acc/total_items"
   ]
  },
  {
   "cell_type": "code",
   "execution_count": 4,
   "id": "885cd993",
   "metadata": {
    "scrolled": false
   },
   "outputs": [
    {
     "data": {
      "application/vnd.jupyter.widget-view+json": {
       "model_id": "",
       "version_major": 2,
       "version_minor": 0
      },
      "text/plain": [
       "Test:   0%|          | 0/35 [00:00<?, ?it/s]"
      ]
     },
     "metadata": {},
     "output_type": "display_data"
    },
    {
     "data": {
      "application/vnd.jupyter.widget-view+json": {
       "model_id": "",
       "version_major": 2,
       "version_minor": 0
      },
      "text/plain": [
       "Test:   0%|          | 0/35 [00:00<?, ?it/s]"
      ]
     },
     "metadata": {},
     "output_type": "display_data"
    },
    {
     "data": {
      "application/vnd.jupyter.widget-view+json": {
       "model_id": "",
       "version_major": 2,
       "version_minor": 0
      },
      "text/plain": [
       "Test:   0%|          | 0/35 [00:00<?, ?it/s]"
      ]
     },
     "metadata": {},
     "output_type": "display_data"
    },
    {
     "data": {
      "application/vnd.jupyter.widget-view+json": {
       "model_id": "",
       "version_major": 2,
       "version_minor": 0
      },
      "text/plain": [
       "Test:   0%|          | 0/35 [00:00<?, ?it/s]"
      ]
     },
     "metadata": {},
     "output_type": "display_data"
    },
    {
     "data": {
      "application/vnd.jupyter.widget-view+json": {
       "model_id": "",
       "version_major": 2,
       "version_minor": 0
      },
      "text/plain": [
       "Test:   0%|          | 0/35 [00:00<?, ?it/s]"
      ]
     },
     "metadata": {},
     "output_type": "display_data"
    },
    {
     "data": {
      "application/vnd.jupyter.widget-view+json": {
       "model_id": "",
       "version_major": 2,
       "version_minor": 0
      },
      "text/plain": [
       "Test:   0%|          | 0/35 [00:00<?, ?it/s]"
      ]
     },
     "metadata": {},
     "output_type": "display_data"
    },
    {
     "data": {
      "application/vnd.jupyter.widget-view+json": {
       "model_id": "",
       "version_major": 2,
       "version_minor": 0
      },
      "text/plain": [
       "Test:   0%|          | 0/35 [00:00<?, ?it/s]"
      ]
     },
     "metadata": {},
     "output_type": "display_data"
    },
    {
     "data": {
      "application/vnd.jupyter.widget-view+json": {
       "model_id": "",
       "version_major": 2,
       "version_minor": 0
      },
      "text/plain": [
       "Test:   0%|          | 0/35 [00:00<?, ?it/s]"
      ]
     },
     "metadata": {},
     "output_type": "display_data"
    },
    {
     "data": {
      "application/vnd.jupyter.widget-view+json": {
       "model_id": "",
       "version_major": 2,
       "version_minor": 0
      },
      "text/plain": [
       "Test:   0%|          | 0/35 [00:00<?, ?it/s]"
      ]
     },
     "metadata": {},
     "output_type": "display_data"
    },
    {
     "data": {
      "application/vnd.jupyter.widget-view+json": {
       "model_id": "",
       "version_major": 2,
       "version_minor": 0
      },
      "text/plain": [
       "Test:   0%|          | 0/35 [00:00<?, ?it/s]"
      ]
     },
     "metadata": {},
     "output_type": "display_data"
    },
    {
     "data": {
      "application/vnd.jupyter.widget-view+json": {
       "model_id": "",
       "version_major": 2,
       "version_minor": 0
      },
      "text/plain": [
       "Test:   0%|          | 0/35 [00:00<?, ?it/s]"
      ]
     },
     "metadata": {},
     "output_type": "display_data"
    },
    {
     "data": {
      "application/vnd.jupyter.widget-view+json": {
       "model_id": "",
       "version_major": 2,
       "version_minor": 0
      },
      "text/plain": [
       "Test:   0%|          | 0/35 [00:00<?, ?it/s]"
      ]
     },
     "metadata": {},
     "output_type": "display_data"
    },
    {
     "data": {
      "application/vnd.jupyter.widget-view+json": {
       "model_id": "",
       "version_major": 2,
       "version_minor": 0
      },
      "text/plain": [
       "Test:   0%|          | 0/35 [00:00<?, ?it/s]"
      ]
     },
     "metadata": {},
     "output_type": "display_data"
    },
    {
     "data": {
      "application/vnd.jupyter.widget-view+json": {
       "model_id": "",
       "version_major": 2,
       "version_minor": 0
      },
      "text/plain": [
       "Test:   0%|          | 0/35 [00:00<?, ?it/s]"
      ]
     },
     "metadata": {},
     "output_type": "display_data"
    },
    {
     "data": {
      "application/vnd.jupyter.widget-view+json": {
       "model_id": "",
       "version_major": 2,
       "version_minor": 0
      },
      "text/plain": [
       "Test:   0%|          | 0/35 [00:00<?, ?it/s]"
      ]
     },
     "metadata": {},
     "output_type": "display_data"
    },
    {
     "data": {
      "application/vnd.jupyter.widget-view+json": {
       "model_id": "",
       "version_major": 2,
       "version_minor": 0
      },
      "text/plain": [
       "Test:   0%|          | 0/35 [00:00<?, ?it/s]"
      ]
     },
     "metadata": {},
     "output_type": "display_data"
    },
    {
     "data": {
      "application/vnd.jupyter.widget-view+json": {
       "model_id": "",
       "version_major": 2,
       "version_minor": 0
      },
      "text/plain": [
       "Test:   0%|          | 0/35 [00:00<?, ?it/s]"
      ]
     },
     "metadata": {},
     "output_type": "display_data"
    },
    {
     "data": {
      "application/vnd.jupyter.widget-view+json": {
       "model_id": "",
       "version_major": 2,
       "version_minor": 0
      },
      "text/plain": [
       "Test:   0%|          | 0/35 [00:00<?, ?it/s]"
      ]
     },
     "metadata": {},
     "output_type": "display_data"
    },
    {
     "data": {
      "application/vnd.jupyter.widget-view+json": {
       "model_id": "",
       "version_major": 2,
       "version_minor": 0
      },
      "text/plain": [
       "Test:   0%|          | 0/35 [00:00<?, ?it/s]"
      ]
     },
     "metadata": {},
     "output_type": "display_data"
    },
    {
     "data": {
      "application/vnd.jupyter.widget-view+json": {
       "model_id": "",
       "version_major": 2,
       "version_minor": 0
      },
      "text/plain": [
       "Test:   0%|          | 0/35 [00:00<?, ?it/s]"
      ]
     },
     "metadata": {},
     "output_type": "display_data"
    },
    {
     "data": {
      "application/vnd.jupyter.widget-view+json": {
       "model_id": "",
       "version_major": 2,
       "version_minor": 0
      },
      "text/plain": [
       "Test:   0%|          | 0/35 [00:00<?, ?it/s]"
      ]
     },
     "metadata": {},
     "output_type": "display_data"
    },
    {
     "data": {
      "application/vnd.jupyter.widget-view+json": {
       "model_id": "",
       "version_major": 2,
       "version_minor": 0
      },
      "text/plain": [
       "Test:   0%|          | 0/35 [00:00<?, ?it/s]"
      ]
     },
     "metadata": {},
     "output_type": "display_data"
    },
    {
     "data": {
      "application/vnd.jupyter.widget-view+json": {
       "model_id": "",
       "version_major": 2,
       "version_minor": 0
      },
      "text/plain": [
       "Test:   0%|          | 0/35 [00:00<?, ?it/s]"
      ]
     },
     "metadata": {},
     "output_type": "display_data"
    },
    {
     "data": {
      "application/vnd.jupyter.widget-view+json": {
       "model_id": "",
       "version_major": 2,
       "version_minor": 0
      },
      "text/plain": [
       "Test:   0%|          | 0/35 [00:00<?, ?it/s]"
      ]
     },
     "metadata": {},
     "output_type": "display_data"
    },
    {
     "data": {
      "application/vnd.jupyter.widget-view+json": {
       "model_id": "",
       "version_major": 2,
       "version_minor": 0
      },
      "text/plain": [
       "Test:   0%|          | 0/35 [00:00<?, ?it/s]"
      ]
     },
     "metadata": {},
     "output_type": "display_data"
    },
    {
     "data": {
      "application/vnd.jupyter.widget-view+json": {
       "model_id": "",
       "version_major": 2,
       "version_minor": 0
      },
      "text/plain": [
       "Test:   0%|          | 0/35 [00:00<?, ?it/s]"
      ]
     },
     "metadata": {},
     "output_type": "display_data"
    },
    {
     "data": {
      "application/vnd.jupyter.widget-view+json": {
       "model_id": "",
       "version_major": 2,
       "version_minor": 0
      },
      "text/plain": [
       "Test:   0%|          | 0/35 [00:00<?, ?it/s]"
      ]
     },
     "metadata": {},
     "output_type": "display_data"
    },
    {
     "data": {
      "application/vnd.jupyter.widget-view+json": {
       "model_id": "",
       "version_major": 2,
       "version_minor": 0
      },
      "text/plain": [
       "Test:   0%|          | 0/35 [00:00<?, ?it/s]"
      ]
     },
     "metadata": {},
     "output_type": "display_data"
    },
    {
     "data": {
      "application/vnd.jupyter.widget-view+json": {
       "model_id": "",
       "version_major": 2,
       "version_minor": 0
      },
      "text/plain": [
       "Test:   0%|          | 0/35 [00:00<?, ?it/s]"
      ]
     },
     "metadata": {},
     "output_type": "display_data"
    },
    {
     "data": {
      "application/vnd.jupyter.widget-view+json": {
       "model_id": "",
       "version_major": 2,
       "version_minor": 0
      },
      "text/plain": [
       "Test:   0%|          | 0/35 [00:00<?, ?it/s]"
      ]
     },
     "metadata": {},
     "output_type": "display_data"
    },
    {
     "data": {
      "application/vnd.jupyter.widget-view+json": {
       "model_id": "",
       "version_major": 2,
       "version_minor": 0
      },
      "text/plain": [
       "Test:   0%|          | 0/35 [00:00<?, ?it/s]"
      ]
     },
     "metadata": {},
     "output_type": "display_data"
    },
    {
     "data": {
      "application/vnd.jupyter.widget-view+json": {
       "model_id": "",
       "version_major": 2,
       "version_minor": 0
      },
      "text/plain": [
       "Test:   0%|          | 0/35 [00:00<?, ?it/s]"
      ]
     },
     "metadata": {},
     "output_type": "display_data"
    },
    {
     "data": {
      "application/vnd.jupyter.widget-view+json": {
       "model_id": "",
       "version_major": 2,
       "version_minor": 0
      },
      "text/plain": [
       "Test:   0%|          | 0/35 [00:00<?, ?it/s]"
      ]
     },
     "metadata": {},
     "output_type": "display_data"
    },
    {
     "data": {
      "application/vnd.jupyter.widget-view+json": {
       "model_id": "",
       "version_major": 2,
       "version_minor": 0
      },
      "text/plain": [
       "Test:   0%|          | 0/35 [00:00<?, ?it/s]"
      ]
     },
     "metadata": {},
     "output_type": "display_data"
    },
    {
     "data": {
      "application/vnd.jupyter.widget-view+json": {
       "model_id": "",
       "version_major": 2,
       "version_minor": 0
      },
      "text/plain": [
       "Test:   0%|          | 0/35 [00:00<?, ?it/s]"
      ]
     },
     "metadata": {},
     "output_type": "display_data"
    },
    {
     "data": {
      "application/vnd.jupyter.widget-view+json": {
       "model_id": "",
       "version_major": 2,
       "version_minor": 0
      },
      "text/plain": [
       "Test:   0%|          | 0/35 [00:00<?, ?it/s]"
      ]
     },
     "metadata": {},
     "output_type": "display_data"
    },
    {
     "data": {
      "application/vnd.jupyter.widget-view+json": {
       "model_id": "",
       "version_major": 2,
       "version_minor": 0
      },
      "text/plain": [
       "Test:   0%|          | 0/35 [00:00<?, ?it/s]"
      ]
     },
     "metadata": {},
     "output_type": "display_data"
    },
    {
     "data": {
      "application/vnd.jupyter.widget-view+json": {
       "model_id": "",
       "version_major": 2,
       "version_minor": 0
      },
      "text/plain": [
       "Test:   0%|          | 0/35 [00:00<?, ?it/s]"
      ]
     },
     "metadata": {},
     "output_type": "display_data"
    },
    {
     "data": {
      "application/vnd.jupyter.widget-view+json": {
       "model_id": "",
       "version_major": 2,
       "version_minor": 0
      },
      "text/plain": [
       "Test:   0%|          | 0/35 [00:00<?, ?it/s]"
      ]
     },
     "metadata": {},
     "output_type": "display_data"
    },
    {
     "data": {
      "application/vnd.jupyter.widget-view+json": {
       "model_id": "",
       "version_major": 2,
       "version_minor": 0
      },
      "text/plain": [
       "Test:   0%|          | 0/35 [00:00<?, ?it/s]"
      ]
     },
     "metadata": {},
     "output_type": "display_data"
    },
    {
     "data": {
      "application/vnd.jupyter.widget-view+json": {
       "model_id": "",
       "version_major": 2,
       "version_minor": 0
      },
      "text/plain": [
       "Test:   0%|          | 0/35 [00:00<?, ?it/s]"
      ]
     },
     "metadata": {},
     "output_type": "display_data"
    },
    {
     "data": {
      "application/vnd.jupyter.widget-view+json": {
       "model_id": "",
       "version_major": 2,
       "version_minor": 0
      },
      "text/plain": [
       "Test:   0%|          | 0/35 [00:00<?, ?it/s]"
      ]
     },
     "metadata": {},
     "output_type": "display_data"
    },
    {
     "data": {
      "application/vnd.jupyter.widget-view+json": {
       "model_id": "",
       "version_major": 2,
       "version_minor": 0
      },
      "text/plain": [
       "Test:   0%|          | 0/35 [00:00<?, ?it/s]"
      ]
     },
     "metadata": {},
     "output_type": "display_data"
    },
    {
     "data": {
      "application/vnd.jupyter.widget-view+json": {
       "model_id": "",
       "version_major": 2,
       "version_minor": 0
      },
      "text/plain": [
       "Test:   0%|          | 0/35 [00:00<?, ?it/s]"
      ]
     },
     "metadata": {},
     "output_type": "display_data"
    },
    {
     "data": {
      "application/vnd.jupyter.widget-view+json": {
       "model_id": "",
       "version_major": 2,
       "version_minor": 0
      },
      "text/plain": [
       "Test:   0%|          | 0/35 [00:00<?, ?it/s]"
      ]
     },
     "metadata": {},
     "output_type": "display_data"
    },
    {
     "data": {
      "application/vnd.jupyter.widget-view+json": {
       "model_id": "",
       "version_major": 2,
       "version_minor": 0
      },
      "text/plain": [
       "Test:   0%|          | 0/35 [00:00<?, ?it/s]"
      ]
     },
     "metadata": {},
     "output_type": "display_data"
    },
    {
     "data": {
      "application/vnd.jupyter.widget-view+json": {
       "model_id": "",
       "version_major": 2,
       "version_minor": 0
      },
      "text/plain": [
       "Test:   0%|          | 0/35 [00:00<?, ?it/s]"
      ]
     },
     "metadata": {},
     "output_type": "display_data"
    },
    {
     "data": {
      "application/vnd.jupyter.widget-view+json": {
       "model_id": "",
       "version_major": 2,
       "version_minor": 0
      },
      "text/plain": [
       "Test:   0%|          | 0/35 [00:00<?, ?it/s]"
      ]
     },
     "metadata": {},
     "output_type": "display_data"
    },
    {
     "data": {
      "application/vnd.jupyter.widget-view+json": {
       "model_id": "",
       "version_major": 2,
       "version_minor": 0
      },
      "text/plain": [
       "Test:   0%|          | 0/35 [00:00<?, ?it/s]"
      ]
     },
     "metadata": {},
     "output_type": "display_data"
    },
    {
     "data": {
      "application/vnd.jupyter.widget-view+json": {
       "model_id": "",
       "version_major": 2,
       "version_minor": 0
      },
      "text/plain": [
       "Test:   0%|          | 0/35 [00:00<?, ?it/s]"
      ]
     },
     "metadata": {},
     "output_type": "display_data"
    },
    {
     "data": {
      "application/vnd.jupyter.widget-view+json": {
       "model_id": "",
       "version_major": 2,
       "version_minor": 0
      },
      "text/plain": [
       "Test:   0%|          | 0/35 [00:00<?, ?it/s]"
      ]
     },
     "metadata": {},
     "output_type": "display_data"
    },
    {
     "data": {
      "application/vnd.jupyter.widget-view+json": {
       "model_id": "",
       "version_major": 2,
       "version_minor": 0
      },
      "text/plain": [
       "Test:   0%|          | 0/35 [00:00<?, ?it/s]"
      ]
     },
     "metadata": {},
     "output_type": "display_data"
    },
    {
     "data": {
      "application/vnd.jupyter.widget-view+json": {
       "model_id": "",
       "version_major": 2,
       "version_minor": 0
      },
      "text/plain": [
       "Test:   0%|          | 0/35 [00:00<?, ?it/s]"
      ]
     },
     "metadata": {},
     "output_type": "display_data"
    },
    {
     "data": {
      "application/vnd.jupyter.widget-view+json": {
       "model_id": "",
       "version_major": 2,
       "version_minor": 0
      },
      "text/plain": [
       "Test:   0%|          | 0/35 [00:00<?, ?it/s]"
      ]
     },
     "metadata": {},
     "output_type": "display_data"
    },
    {
     "data": {
      "application/vnd.jupyter.widget-view+json": {
       "model_id": "",
       "version_major": 2,
       "version_minor": 0
      },
      "text/plain": [
       "Test:   0%|          | 0/35 [00:00<?, ?it/s]"
      ]
     },
     "metadata": {},
     "output_type": "display_data"
    },
    {
     "data": {
      "application/vnd.jupyter.widget-view+json": {
       "model_id": "",
       "version_major": 2,
       "version_minor": 0
      },
      "text/plain": [
       "Test:   0%|          | 0/35 [00:00<?, ?it/s]"
      ]
     },
     "metadata": {},
     "output_type": "display_data"
    },
    {
     "data": {
      "application/vnd.jupyter.widget-view+json": {
       "model_id": "",
       "version_major": 2,
       "version_minor": 0
      },
      "text/plain": [
       "Test:   0%|          | 0/35 [00:00<?, ?it/s]"
      ]
     },
     "metadata": {},
     "output_type": "display_data"
    },
    {
     "data": {
      "application/vnd.jupyter.widget-view+json": {
       "model_id": "",
       "version_major": 2,
       "version_minor": 0
      },
      "text/plain": [
       "Test:   0%|          | 0/35 [00:00<?, ?it/s]"
      ]
     },
     "metadata": {},
     "output_type": "display_data"
    },
    {
     "data": {
      "application/vnd.jupyter.widget-view+json": {
       "model_id": "",
       "version_major": 2,
       "version_minor": 0
      },
      "text/plain": [
       "Test:   0%|          | 0/35 [00:00<?, ?it/s]"
      ]
     },
     "metadata": {},
     "output_type": "display_data"
    },
    {
     "data": {
      "application/vnd.jupyter.widget-view+json": {
       "model_id": "",
       "version_major": 2,
       "version_minor": 0
      },
      "text/plain": [
       "Test:   0%|          | 0/35 [00:00<?, ?it/s]"
      ]
     },
     "metadata": {},
     "output_type": "display_data"
    },
    {
     "data": {
      "application/vnd.jupyter.widget-view+json": {
       "model_id": "",
       "version_major": 2,
       "version_minor": 0
      },
      "text/plain": [
       "Test:   0%|          | 0/35 [00:00<?, ?it/s]"
      ]
     },
     "metadata": {},
     "output_type": "display_data"
    },
    {
     "data": {
      "application/vnd.jupyter.widget-view+json": {
       "model_id": "",
       "version_major": 2,
       "version_minor": 0
      },
      "text/plain": [
       "Test:   0%|          | 0/35 [00:00<?, ?it/s]"
      ]
     },
     "metadata": {},
     "output_type": "display_data"
    },
    {
     "data": {
      "application/vnd.jupyter.widget-view+json": {
       "model_id": "",
       "version_major": 2,
       "version_minor": 0
      },
      "text/plain": [
       "Test:   0%|          | 0/35 [00:00<?, ?it/s]"
      ]
     },
     "metadata": {},
     "output_type": "display_data"
    },
    {
     "data": {
      "application/vnd.jupyter.widget-view+json": {
       "model_id": "",
       "version_major": 2,
       "version_minor": 0
      },
      "text/plain": [
       "Test:   0%|          | 0/35 [00:00<?, ?it/s]"
      ]
     },
     "metadata": {},
     "output_type": "display_data"
    },
    {
     "data": {
      "application/vnd.jupyter.widget-view+json": {
       "model_id": "",
       "version_major": 2,
       "version_minor": 0
      },
      "text/plain": [
       "Test:   0%|          | 0/35 [00:00<?, ?it/s]"
      ]
     },
     "metadata": {},
     "output_type": "display_data"
    },
    {
     "data": {
      "application/vnd.jupyter.widget-view+json": {
       "model_id": "",
       "version_major": 2,
       "version_minor": 0
      },
      "text/plain": [
       "Test:   0%|          | 0/35 [00:00<?, ?it/s]"
      ]
     },
     "metadata": {},
     "output_type": "display_data"
    },
    {
     "data": {
      "application/vnd.jupyter.widget-view+json": {
       "model_id": "",
       "version_major": 2,
       "version_minor": 0
      },
      "text/plain": [
       "Test:   0%|          | 0/35 [00:00<?, ?it/s]"
      ]
     },
     "metadata": {},
     "output_type": "display_data"
    },
    {
     "data": {
      "application/vnd.jupyter.widget-view+json": {
       "model_id": "",
       "version_major": 2,
       "version_minor": 0
      },
      "text/plain": [
       "Test:   0%|          | 0/35 [00:00<?, ?it/s]"
      ]
     },
     "metadata": {},
     "output_type": "display_data"
    },
    {
     "data": {
      "application/vnd.jupyter.widget-view+json": {
       "model_id": "",
       "version_major": 2,
       "version_minor": 0
      },
      "text/plain": [
       "Test:   0%|          | 0/35 [00:00<?, ?it/s]"
      ]
     },
     "metadata": {},
     "output_type": "display_data"
    },
    {
     "data": {
      "application/vnd.jupyter.widget-view+json": {
       "model_id": "",
       "version_major": 2,
       "version_minor": 0
      },
      "text/plain": [
       "Test:   0%|          | 0/35 [00:00<?, ?it/s]"
      ]
     },
     "metadata": {},
     "output_type": "display_data"
    },
    {
     "data": {
      "application/vnd.jupyter.widget-view+json": {
       "model_id": "",
       "version_major": 2,
       "version_minor": 0
      },
      "text/plain": [
       "Test:   0%|          | 0/35 [00:00<?, ?it/s]"
      ]
     },
     "metadata": {},
     "output_type": "display_data"
    },
    {
     "data": {
      "application/vnd.jupyter.widget-view+json": {
       "model_id": "",
       "version_major": 2,
       "version_minor": 0
      },
      "text/plain": [
       "Test:   0%|          | 0/35 [00:00<?, ?it/s]"
      ]
     },
     "metadata": {},
     "output_type": "display_data"
    },
    {
     "data": {
      "application/vnd.jupyter.widget-view+json": {
       "model_id": "",
       "version_major": 2,
       "version_minor": 0
      },
      "text/plain": [
       "Test:   0%|          | 0/35 [00:00<?, ?it/s]"
      ]
     },
     "metadata": {},
     "output_type": "display_data"
    },
    {
     "data": {
      "application/vnd.jupyter.widget-view+json": {
       "model_id": "",
       "version_major": 2,
       "version_minor": 0
      },
      "text/plain": [
       "Test:   0%|          | 0/35 [00:00<?, ?it/s]"
      ]
     },
     "metadata": {},
     "output_type": "display_data"
    },
    {
     "data": {
      "application/vnd.jupyter.widget-view+json": {
       "model_id": "",
       "version_major": 2,
       "version_minor": 0
      },
      "text/plain": [
       "Test:   0%|          | 0/35 [00:00<?, ?it/s]"
      ]
     },
     "metadata": {},
     "output_type": "display_data"
    }
   ],
   "source": [
    "def get_best_models(path_to_models, path_to_data):\n",
    "    path_to_test_set = path_to_data / 'test.pt'\n",
    "    dataset = DataLoader(BertFactorSemcorDataset.load(path_to_test_set), shuffle=False, batch_size=512)\n",
    "    all_results = []\n",
    "    for run in range(1, 6):\n",
    "        all_results.append([])\n",
    "        for keys in powerset():\n",
    "            model_name = path_to_models / str(run) / (\"_\".join(keys) + f'.{run}.pt')\n",
    "            f1 = eval_model(keys, model_name, dataset)\n",
    "            all_results[-1].append(f1)\n",
    "    return all_results\n",
    "    \n",
    "all_wsd_f1 = np.array(get_best_models(MODELS_PATH, DATA_PATH))* 100"
   ]
  },
  {
   "cell_type": "code",
   "execution_count": 5,
   "id": "d808aafc",
   "metadata": {
    "scrolled": false
   },
   "outputs": [
    {
     "name": "stdout",
     "output_type": "stream",
     "text": [
      " &&\n",
      "{\\gradC\\bestCell{58.415119735292464}} & {\\gradN} 66.83865178621502 & {\\gradF} 64.46077056811171 & {\\gradA} 57.32151870338175 & {\\gradL} 66.65358084235321 & {\\gradD} 63.883124894846055 & {\\gradB\\bestCell{57.82625764118669}} & {\\gradH} 65.71140149178397 & {\\gradO\\bestCell{66.94520778419606}} & {\\gradG} 64.46077056811171 & {\\gradI} 65.75626717514442 & {\\gradM\\bestCell{66.77135326117435}} & {\\gradE} 64.4495541472716 & {\\gradJ} 65.87964780438563 & {\\gradK} 65.98620380236666\n",
      "\\\\\n",
      " &&\n",
      "{\\gradC} 57.91038079748753 & {\\gradL} 66.5189837922719 & {\\gradG} 64.73557287869441 & {\\gradA} 57.40003364926252 & {\\gradM} 66.68723010487354 & {\\gradD} 64.23083394088947 & {\\gradB} 57.65801132858505 & {\\gradI} 65.96377096068645 & {\\gradO} 66.8050025236947 & {\\gradE} 64.387863832651 & {\\gradH\\bestCell{65.93572990858617}} & {\\gradN} 66.72648757781391 & {\\gradF} 64.56171835567271 & {\\gradJ} 65.98620380236666 & {\\gradK} 66.02546127530705\n",
      "\\\\\n",
      " &&\n",
      "{\\gradC} 58.308563737311424 & {\\gradL} 66.38999495261062 & {\\gradG} 64.6738825640738 & {\\gradA\\bestCell{57.405641859682575}} & {\\gradN} 66.56384947563232 & {\\gradF\\bestCell{64.58975940777299}} & {\\gradB} 57.54584712018394 & {\\gradK\\bestCell{66.13762548370815}} & {\\gradM} 66.50776737143178 & {\\gradE} 64.34860635971062 & {\\gradJ} 65.89086422522573 & {\\gradO} 66.73770399865403 & {\\gradD} 64.16914362626885 & {\\gradH} 65.7955246480848 & {\\gradI} 65.83478212102519\n",
      "\\\\\n",
      " &&\n",
      "{\\gradB} 57.73652627446582 & {\\gradO\\bestCell{67.05737199259715}} & {\\gradE} 64.4383377264315 & {\\gradA} 57.282261230441364 & {\\gradL} 66.40681958387079 & {\\gradD} 64.41590488475127 & {\\gradC} 57.82625764118669 & {\\gradK} 66.13201727328808 & {\\gradN} 66.5189837922719 & {\\gradG} 64.64023330155348 & {\\gradJ} 65.88525601480568 & {\\gradM} 66.45729347765128 & {\\gradF\\bestCell{64.58415119735292}} & {\\gradI} 65.84039033144524 & {\\gradH} 65.82917391060512\n",
      "\\\\\n",
      " &&\n",
      "{\\gradC} 58.095451741349336 & {\\gradL} 66.5918905277326 & {\\gradG\\bestCell{64.78043856205484}} & {\\gradA} 57.19813807414054 & {\\gradO\\bestCell{67.09102125511748}} & {\\gradD} 64.31495709719029 & {\\gradB} 57.34395154506197 & {\\gradI} 65.86282317312545 & {\\gradN} 66.79939431327463 & {\\gradF\\bestCell{64.69631540575402}} & {\\gradH} 65.73383433346419 & {\\gradM} 66.73770399865403 & {\\gradE} 64.57293477651281 & {\\gradK\\bestCell{66.12080085244799}} & {\\gradJ\\bestCell{66.08154337950761}}\n",
      "\\\\\n"
     ]
    }
   ],
   "source": [
    "grad_cmds = [\"\\\\\" + f'grad{chr(c)}' for c in range(ord('A'), ord('O')+1)]\n",
    "def get_ranks(run):\n",
    "    ranks = np.empty_like(run)\n",
    "    ranks[run.argsort()] = np.arange(run.shape[0])\n",
    "    return ranks\n",
    "\n",
    "shades  = np.array([get_ranks(run) for run in all_wsd_f1]).astype(int)\n",
    "best_run = all_wsd_f1.argmax(0)\n",
    "individual_cells = [[] for _ in range(5)]\n",
    "for key_idx in range(all_wsd_f1.shape[1]):\n",
    "    for run_idx in range(all_wsd_f1.shape[0]):\n",
    "        grad_cmd = grad_cmds[shades[run_idx,key_idx]]\n",
    "        score = str(all_wsd_f1[run_idx,key_idx]) \n",
    "        if best_run[key_idx] == run_idx:\n",
    "            cell_value = \"{\" + grad_cmd + \"\\\\bestCell{\" + score + \"}}\"\n",
    "        else:\n",
    "            cell_value = \"{\" + grad_cmd + \"} \" + score\n",
    "        individual_cells[run_idx].append(cell_value)\n",
    "print(*[\" &&\\n\" + \" & \".join(single_run) +\"\\n\\\\\\\\\" for single_run in individual_cells ], sep=\"\\n\")"
   ]
  },
  {
   "cell_type": "code",
   "execution_count": 6,
   "id": "c63a77c7",
   "metadata": {},
   "outputs": [
    {
     "name": "stdout",
     "output_type": "stream",
     "text": [
      "{\\gradC} 58.09320845718131 & {\\gradL} 66.67937861028545 & {\\gradG} 64.61780045987325 & {\\gradA} 57.321518703381756 & {\\gradM} 66.68050025236947 & {\\gradD} 64.28691604509001 & {\\gradB} 57.64006505524087 & {\\gradK} 65.96152767651841 & {\\gradO} 66.71527115697381 & {\\gradF} 64.50675789355617 & {\\gradH} 65.84039033144524 & {\\gradN} 66.68610846278952 & {\\gradE} 64.46750042061578 & {\\gradI} 65.92451348774605 & {\\gradJ} 65.95143289776232\n",
      "{{$\\pm$\\numprint{0.24926208399783928}}} & {{$\\pm$\\numprint{0.23890186487584097}}} & {{$\\pm$\\numprint{0.14165589075559415}}} & {{$\\pm$\\numprint{0.07746641982987944}}} & {{$\\pm$\\numprint{0.227070892573597}}} & {{$\\pm$\\numprint{0.23466189256378156}}} & {{$\\pm$\\numprint{0.18232808727466568}}} & {{$\\pm$\\numprint{0.16271930426807737}}} & {{$\\pm$\\numprint{0.1729657923948243}}} & {{$\\pm$\\numprint{0.13784794118770383}}} & {{$\\pm$\\numprint{0.08010126665406082}}} & {{$\\pm$\\numprint{0.1153929327540729}}} & {{$\\pm$\\numprint{0.15680540288084058}}} & {{$\\pm$\\numprint{0.11667234478331771}}} & {{$\\pm$\\numprint{0.10214951551816707}}}\n"
     ]
    }
   ],
   "source": [
    "means = all_wsd_f1.mean(0)\n",
    "shades = get_ranks(means).astype(int)\n",
    "single_run = []\n",
    "for key_idx in range(all_wsd_f1.shape[1]):\n",
    "    grad_cmd = grad_cmds[shades[key_idx]]\n",
    "    score = str(means[key_idx]) \n",
    "    cell_value = \"{\" + grad_cmd + \"} \" + score\n",
    "    single_run.append(cell_value)\n",
    "print(\" & \".join(single_run), sep=\"\\n\")\n",
    "\n",
    "\n",
    "print(\" & \".join(\"{{$\\pm$\\\\numprint{\" + s + \"}}}\" for s in  all_wsd_f1.std(0).astype(str)))"
   ]
  },
  {
   "cell_type": "code",
   "execution_count": 7,
   "id": "98bc1859",
   "metadata": {},
   "outputs": [],
   "source": [
    "\n",
    "DEVICE = 'cpu'\n",
    "\n",
    "@torch.no_grad()\n",
    "def best_preds_to_matrix(filename, untuned=True):\n",
    "    best_runs_considered = best_run \n",
    "    path_to_test_set = DATA_PATH /  'test.pt'\n",
    "    dataset = DataLoader(BertFactorSemcorDataset.load(path_to_test_set), shuffle=False, batch_size=512)\n",
    "    all_preds = {}\n",
    "    for run, keys_to_sum in zip(best_runs_considered.tolist(), powerset()):\n",
    "        run += 1\n",
    "        model_name = MODELS_PATH / f'{run}' / (\"_\".join(keys_to_sum) + f'.{run}.pt')\n",
    "        all_preds[keys_to_sum] = eval_model(keys_to_sum, model_name, dataset, return_preds=True)\n",
    "    matrix_view = np.zeros((len(all_preds), len(all_preds)))\n",
    "    for i, keys_1 in enumerate(powerset()):\n",
    "        for j, keys_2 in enumerate(powerset()):\n",
    "            matrix_view[i, j] = sklearn.metrics.f1_score(all_preds[keys_1], all_preds[keys_2], average='micro')\n",
    "    # print(matrix_view.tolist())\n",
    "    np.save(filename, matrix_view)"
   ]
  },
  {
   "cell_type": "code",
   "execution_count": 8,
   "id": "4a2607c0",
   "metadata": {},
   "outputs": [
    {
     "data": {
      "application/vnd.jupyter.widget-view+json": {
       "model_id": "",
       "version_major": 2,
       "version_minor": 0
      },
      "text/plain": [
       "Test:   0%|          | 0/35 [00:00<?, ?it/s]"
      ]
     },
     "metadata": {},
     "output_type": "display_data"
    },
    {
     "data": {
      "application/vnd.jupyter.widget-view+json": {
       "model_id": "",
       "version_major": 2,
       "version_minor": 0
      },
      "text/plain": [
       "Test:   0%|          | 0/35 [00:00<?, ?it/s]"
      ]
     },
     "metadata": {},
     "output_type": "display_data"
    },
    {
     "data": {
      "application/vnd.jupyter.widget-view+json": {
       "model_id": "",
       "version_major": 2,
       "version_minor": 0
      },
      "text/plain": [
       "Test:   0%|          | 0/35 [00:00<?, ?it/s]"
      ]
     },
     "metadata": {},
     "output_type": "display_data"
    },
    {
     "data": {
      "application/vnd.jupyter.widget-view+json": {
       "model_id": "",
       "version_major": 2,
       "version_minor": 0
      },
      "text/plain": [
       "Test:   0%|          | 0/35 [00:00<?, ?it/s]"
      ]
     },
     "metadata": {},
     "output_type": "display_data"
    },
    {
     "data": {
      "application/vnd.jupyter.widget-view+json": {
       "model_id": "",
       "version_major": 2,
       "version_minor": 0
      },
      "text/plain": [
       "Test:   0%|          | 0/35 [00:00<?, ?it/s]"
      ]
     },
     "metadata": {},
     "output_type": "display_data"
    },
    {
     "data": {
      "application/vnd.jupyter.widget-view+json": {
       "model_id": "",
       "version_major": 2,
       "version_minor": 0
      },
      "text/plain": [
       "Test:   0%|          | 0/35 [00:00<?, ?it/s]"
      ]
     },
     "metadata": {},
     "output_type": "display_data"
    },
    {
     "data": {
      "application/vnd.jupyter.widget-view+json": {
       "model_id": "",
       "version_major": 2,
       "version_minor": 0
      },
      "text/plain": [
       "Test:   0%|          | 0/35 [00:00<?, ?it/s]"
      ]
     },
     "metadata": {},
     "output_type": "display_data"
    },
    {
     "data": {
      "application/vnd.jupyter.widget-view+json": {
       "model_id": "",
       "version_major": 2,
       "version_minor": 0
      },
      "text/plain": [
       "Test:   0%|          | 0/35 [00:00<?, ?it/s]"
      ]
     },
     "metadata": {},
     "output_type": "display_data"
    },
    {
     "data": {
      "application/vnd.jupyter.widget-view+json": {
       "model_id": "",
       "version_major": 2,
       "version_minor": 0
      },
      "text/plain": [
       "Test:   0%|          | 0/35 [00:00<?, ?it/s]"
      ]
     },
     "metadata": {},
     "output_type": "display_data"
    },
    {
     "data": {
      "application/vnd.jupyter.widget-view+json": {
       "model_id": "",
       "version_major": 2,
       "version_minor": 0
      },
      "text/plain": [
       "Test:   0%|          | 0/35 [00:00<?, ?it/s]"
      ]
     },
     "metadata": {},
     "output_type": "display_data"
    },
    {
     "data": {
      "application/vnd.jupyter.widget-view+json": {
       "model_id": "",
       "version_major": 2,
       "version_minor": 0
      },
      "text/plain": [
       "Test:   0%|          | 0/35 [00:00<?, ?it/s]"
      ]
     },
     "metadata": {},
     "output_type": "display_data"
    },
    {
     "data": {
      "application/vnd.jupyter.widget-view+json": {
       "model_id": "",
       "version_major": 2,
       "version_minor": 0
      },
      "text/plain": [
       "Test:   0%|          | 0/35 [00:00<?, ?it/s]"
      ]
     },
     "metadata": {},
     "output_type": "display_data"
    },
    {
     "data": {
      "application/vnd.jupyter.widget-view+json": {
       "model_id": "",
       "version_major": 2,
       "version_minor": 0
      },
      "text/plain": [
       "Test:   0%|          | 0/35 [00:00<?, ?it/s]"
      ]
     },
     "metadata": {},
     "output_type": "display_data"
    },
    {
     "data": {
      "application/vnd.jupyter.widget-view+json": {
       "model_id": "",
       "version_major": 2,
       "version_minor": 0
      },
      "text/plain": [
       "Test:   0%|          | 0/35 [00:00<?, ?it/s]"
      ]
     },
     "metadata": {},
     "output_type": "display_data"
    },
    {
     "data": {
      "application/vnd.jupyter.widget-view+json": {
       "model_id": "",
       "version_major": 2,
       "version_minor": 0
      },
      "text/plain": [
       "Test:   0%|          | 0/35 [00:00<?, ?it/s]"
      ]
     },
     "metadata": {},
     "output_type": "display_data"
    }
   ],
   "source": [
    "best_preds_to_matrix('../data/all-best-f1-classif-semcor.npy')"
   ]
  },
  {
   "cell_type": "code",
   "execution_count": 9,
   "id": "977ac7a3",
   "metadata": {},
   "outputs": [],
   "source": [
    "def matrix_to_heatmap(matrix_dump): # 'f1-classif-semcor.npy'\n",
    "\n",
    "    data = np.load(matrix_dump)\n",
    "    mask = np.triu(data)\n",
    "    data = data[1:,:-1]\n",
    "    mask = mask[1:,:-1]\n",
    "\n",
    "    keys_in_order = [\n",
    "        ('I',), ('H',), ('F',), ('C',),\n",
    "        ('I', 'H'), ('I', 'F'), ('I', 'C'), ('H', 'F'), ('H', 'C'), ('F', 'C'),\n",
    "        ('I', 'H', 'F'), ('I', 'H', 'C'),  ('I', 'F', 'C'), ('H', 'F', 'C'),\n",
    "        ('I', 'H', 'F', 'C')\n",
    "    ]\n",
    "\n",
    "    labels = [\"+\".join(l) for l in keys_in_order]\n",
    "\n",
    "    sns.heatmap(data, vmin=0, vmax=1, annot=True, square=True, xticklabels=labels[:-1], yticklabels=labels[1:], cmap=\"flare\", mask=mask, cbar=False)"
   ]
  },
  {
   "cell_type": "code",
   "execution_count": 10,
   "id": "285748e2",
   "metadata": {},
   "outputs": [
    {
     "data": {
      "image/png": "[encoded data removed]",
      "text/plain": [
       "<Figure size 576x576 with 1 Axes>"
      ]
     },
     "metadata": {},
     "output_type": "display_data"
    }
   ],
   "source": [
    "matrix_to_heatmap('../data/all-best-f1-classif-semcor.npy')"
   ]
  }
 ],
 "metadata": {
  "kernelspec": {
   "display_name": "Python 3 (ipykernel)",
   "language": "python",
   "name": "python3"
  },
  "language_info": {
   "codemirror_mode": {
    "name": "ipython",
    "version": 3
   },
   "file_extension": ".py",
   "mimetype": "text/x-python",
   "name": "python",
   "nbconvert_exporter": "python",
   "pygments_lexer": "ipython3",
   "version": "3.8.10"
  }
 },
 "nbformat": 4,
 "nbformat_minor": 5
}
