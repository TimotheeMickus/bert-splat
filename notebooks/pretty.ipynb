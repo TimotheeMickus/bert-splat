{
 "cells": [
  {
   "cell_type": "code",
   "execution_count": 1,
   "id": "538f320c",
   "metadata": {},
   "outputs": [],
   "source": [
    "import itertools\n",
    "import pathlib\n",
    "\n",
    "import torch\n",
    "import torch.nn.functional as F\n",
    "from torch.utils.data import DataLoader, Dataset\n",
    "\n",
    "import numpy as np\n",
    "import seaborn as sns\n",
    "sns.set(rc={'figure.figsize':(8,8)})\n",
    "import sklearn.metrics\n",
    "import tqdm"
   ]
  },
  {
   "cell_type": "code",
   "execution_count": 2,
   "id": "8e9c1d96",
   "metadata": {},
   "outputs": [],
   "source": [
    "PARENT = pathlib.Path(globals()['_dh'][0]).parent\n",
    "MODELS_PATH = PARENT / 'models-ner'\n",
    "DATA_PATH = PARENT / 'data' / 'ner'\n",
    "KEYS_TO_SUM = ['ipt', 'norm', 'mha', 'ff']\n",
    "\n",
    "def powerset():\n",
    "    yield from (\n",
    "        # four singletons\n",
    "        ('ipt',),\n",
    "        ('mha',),\n",
    "        ('ff',),\n",
    "        ('norm',),\n",
    "        # six duals\n",
    "        ('ipt', 'mha',),\n",
    "        ('ipt', 'ff',),\n",
    "        ('ipt', 'norm',),\n",
    "        ('mha', 'ff'),\n",
    "        ('norm', 'mha',),\n",
    "        ('norm', 'ff',),\n",
    "        # four triplets\n",
    "        ('ipt', 'mha', 'ff'),\n",
    "        ('ipt', 'norm', 'mha',),\n",
    "        ('ipt', 'norm', 'ff',),\n",
    "        ('norm', 'mha', 'ff',),\n",
    "        # one full\n",
    "        ('ipt', 'norm', 'mha', 'ff',),\n",
    "        \n",
    "    )\n",
    "    # combinations = (\n",
    "    #    itertools.combinations(KEYS_TO_SUM, r)\n",
    "    #    for r in range(1, len(KEYS_TO_SUM) + 1)\n",
    "    #)\n",
    "    #yield from itertools.chain.from_iterable(combinations)\n",
    "\n",
    "    \n",
    "class BertFactorRiterDataset(Dataset):\n",
    "    \"\"\"torch object for convenience\"\"\"\n",
    "    def __init__(self, file_name, tokenizer_=None, model_=None):\n",
    "        raise NotImplemented\n",
    "\n",
    "    def save(self, file):\n",
    "        torch.save(self, file)\n",
    "\n",
    "    @staticmethod\n",
    "    def load(file):\n",
    "        return torch.load(file)\n",
    "\n",
    "    def __getitem__(self, idx):\n",
    "        self.items[idx]['tgt_idx'] = self.tag_stoi[self.items[idx]['tag']]\n",
    "        return self.items[idx]\n",
    "\n",
    "    def __len__(self):\n",
    "        return len(self.items)\n"
   ]
  },
  {
   "cell_type": "code",
   "execution_count": 3,
   "id": "d6ce4a8a",
   "metadata": {},
   "outputs": [],
   "source": [
    "@torch.no_grad()\n",
    "def eval_model(keys_to_sum, model_subdir, dataset):\n",
    "    model_name = (\"_\".join(keys_to_sum) + \".pt\")\n",
    "    ner_model = torch.load(model_subdir / model_name, map_location='cpu')\n",
    "    pbar = tqdm.notebook.tqdm(dataset, desc=\"Test\", leave=False, disable=None)\n",
    "    all_true = []\n",
    "    all_preds = []\n",
    "    ner_model.eval()\n",
    "    running_loss, total_items = 0, 0\n",
    "    total_acc = 0\n",
    "    for batch in pbar:\n",
    "        all_ipts = sum(batch[key].to('cpu') for key in keys_to_sum)\n",
    "        mlp_output = ner_model(all_ipts)\n",
    "        tgt = batch['tgt_idx'].view(-1).to('cpu')\n",
    "        loss = F.cross_entropy(mlp_output, tgt, reduction='sum')\n",
    "        all_preds.extend(mlp_output.argmax(-1).view(-1).tolist())\n",
    "        all_true.extend(tgt.tolist())\n",
    "        acc = (F.softmax(mlp_output, dim=-1).argmax(dim=-1) == tgt).sum()\n",
    "        running_loss += loss.item()\n",
    "        total_acc += acc.item()\n",
    "        total_items += batch['tgt_idx'].numel()\n",
    "        pbar.set_description(f\"Test (L={running_loss/total_items:.4f}, A={total_acc/total_items:.4f})\")\n",
    "    new_f1 = sklearn.metrics.f1_score(all_true, all_preds, average='macro')\n",
    "    #print(model_subdir, model_name, new_f1)\n",
    "    return new_f1"
   ]
  },
  {
   "cell_type": "code",
   "execution_count": 24,
   "id": "885cd993",
   "metadata": {
    "scrolled": false
   },
   "outputs": [
    {
     "data": {
      "application/vnd.jupyter.widget-view+json": {
       "model_id": "",
       "version_major": 2,
       "version_minor": 0
      },
      "text/plain": [
       "Test:   0%|          | 0/121 [00:00<?, ?it/s]"
      ]
     },
     "metadata": {},
     "output_type": "display_data"
    },
    {
     "data": {
      "application/vnd.jupyter.widget-view+json": {
       "model_id": "",
       "version_major": 2,
       "version_minor": 0
      },
      "text/plain": [
       "Test:   0%|          | 0/121 [00:00<?, ?it/s]"
      ]
     },
     "metadata": {},
     "output_type": "display_data"
    },
    {
     "data": {
      "application/vnd.jupyter.widget-view+json": {
       "model_id": "",
       "version_major": 2,
       "version_minor": 0
      },
      "text/plain": [
       "Test:   0%|          | 0/121 [00:00<?, ?it/s]"
      ]
     },
     "metadata": {},
     "output_type": "display_data"
    },
    {
     "data": {
      "application/vnd.jupyter.widget-view+json": {
       "model_id": "",
       "version_major": 2,
       "version_minor": 0
      },
      "text/plain": [
       "Test:   0%|          | 0/121 [00:00<?, ?it/s]"
      ]
     },
     "metadata": {},
     "output_type": "display_data"
    },
    {
     "data": {
      "application/vnd.jupyter.widget-view+json": {
       "model_id": "",
       "version_major": 2,
       "version_minor": 0
      },
      "text/plain": [
       "Test:   0%|          | 0/121 [00:00<?, ?it/s]"
      ]
     },
     "metadata": {},
     "output_type": "display_data"
    },
    {
     "data": {
      "application/vnd.jupyter.widget-view+json": {
       "model_id": "",
       "version_major": 2,
       "version_minor": 0
      },
      "text/plain": [
       "Test:   0%|          | 0/121 [00:00<?, ?it/s]"
      ]
     },
     "metadata": {},
     "output_type": "display_data"
    },
    {
     "data": {
      "application/vnd.jupyter.widget-view+json": {
       "model_id": "",
       "version_major": 2,
       "version_minor": 0
      },
      "text/plain": [
       "Test:   0%|          | 0/121 [00:00<?, ?it/s]"
      ]
     },
     "metadata": {},
     "output_type": "display_data"
    },
    {
     "data": {
      "application/vnd.jupyter.widget-view+json": {
       "model_id": "",
       "version_major": 2,
       "version_minor": 0
      },
      "text/plain": [
       "Test:   0%|          | 0/121 [00:00<?, ?it/s]"
      ]
     },
     "metadata": {},
     "output_type": "display_data"
    },
    {
     "data": {
      "application/vnd.jupyter.widget-view+json": {
       "model_id": "",
       "version_major": 2,
       "version_minor": 0
      },
      "text/plain": [
       "Test:   0%|          | 0/121 [00:00<?, ?it/s]"
      ]
     },
     "metadata": {},
     "output_type": "display_data"
    },
    {
     "data": {
      "application/vnd.jupyter.widget-view+json": {
       "model_id": "",
       "version_major": 2,
       "version_minor": 0
      },
      "text/plain": [
       "Test:   0%|          | 0/121 [00:00<?, ?it/s]"
      ]
     },
     "metadata": {},
     "output_type": "display_data"
    },
    {
     "data": {
      "application/vnd.jupyter.widget-view+json": {
       "model_id": "",
       "version_major": 2,
       "version_minor": 0
      },
      "text/plain": [
       "Test:   0%|          | 0/121 [00:00<?, ?it/s]"
      ]
     },
     "metadata": {},
     "output_type": "display_data"
    },
    {
     "data": {
      "application/vnd.jupyter.widget-view+json": {
       "model_id": "",
       "version_major": 2,
       "version_minor": 0
      },
      "text/plain": [
       "Test:   0%|          | 0/121 [00:00<?, ?it/s]"
      ]
     },
     "metadata": {},
     "output_type": "display_data"
    },
    {
     "data": {
      "application/vnd.jupyter.widget-view+json": {
       "model_id": "",
       "version_major": 2,
       "version_minor": 0
      },
      "text/plain": [
       "Test:   0%|          | 0/121 [00:00<?, ?it/s]"
      ]
     },
     "metadata": {},
     "output_type": "display_data"
    },
    {
     "data": {
      "application/vnd.jupyter.widget-view+json": {
       "model_id": "",
       "version_major": 2,
       "version_minor": 0
      },
      "text/plain": [
       "Test:   0%|          | 0/121 [00:00<?, ?it/s]"
      ]
     },
     "metadata": {},
     "output_type": "display_data"
    },
    {
     "data": {
      "application/vnd.jupyter.widget-view+json": {
       "model_id": "",
       "version_major": 2,
       "version_minor": 0
      },
      "text/plain": [
       "Test:   0%|          | 0/121 [00:00<?, ?it/s]"
      ]
     },
     "metadata": {},
     "output_type": "display_data"
    },
    {
     "data": {
      "application/vnd.jupyter.widget-view+json": {
       "model_id": "",
       "version_major": 2,
       "version_minor": 0
      },
      "text/plain": [
       "Test:   0%|          | 0/121 [00:00<?, ?it/s]"
      ]
     },
     "metadata": {},
     "output_type": "display_data"
    },
    {
     "data": {
      "application/vnd.jupyter.widget-view+json": {
       "model_id": "",
       "version_major": 2,
       "version_minor": 0
      },
      "text/plain": [
       "Test:   0%|          | 0/121 [00:00<?, ?it/s]"
      ]
     },
     "metadata": {},
     "output_type": "display_data"
    },
    {
     "data": {
      "application/vnd.jupyter.widget-view+json": {
       "model_id": "",
       "version_major": 2,
       "version_minor": 0
      },
      "text/plain": [
       "Test:   0%|          | 0/121 [00:00<?, ?it/s]"
      ]
     },
     "metadata": {},
     "output_type": "display_data"
    },
    {
     "data": {
      "application/vnd.jupyter.widget-view+json": {
       "model_id": "",
       "version_major": 2,
       "version_minor": 0
      },
      "text/plain": [
       "Test:   0%|          | 0/121 [00:00<?, ?it/s]"
      ]
     },
     "metadata": {},
     "output_type": "display_data"
    },
    {
     "data": {
      "application/vnd.jupyter.widget-view+json": {
       "model_id": "",
       "version_major": 2,
       "version_minor": 0
      },
      "text/plain": [
       "Test:   0%|          | 0/121 [00:00<?, ?it/s]"
      ]
     },
     "metadata": {},
     "output_type": "display_data"
    },
    {
     "data": {
      "application/vnd.jupyter.widget-view+json": {
       "model_id": "",
       "version_major": 2,
       "version_minor": 0
      },
      "text/plain": [
       "Test:   0%|          | 0/121 [00:00<?, ?it/s]"
      ]
     },
     "metadata": {},
     "output_type": "display_data"
    },
    {
     "data": {
      "application/vnd.jupyter.widget-view+json": {
       "model_id": "",
       "version_major": 2,
       "version_minor": 0
      },
      "text/plain": [
       "Test:   0%|          | 0/121 [00:00<?, ?it/s]"
      ]
     },
     "metadata": {},
     "output_type": "display_data"
    },
    {
     "data": {
      "application/vnd.jupyter.widget-view+json": {
       "model_id": "",
       "version_major": 2,
       "version_minor": 0
      },
      "text/plain": [
       "Test:   0%|          | 0/121 [00:00<?, ?it/s]"
      ]
     },
     "metadata": {},
     "output_type": "display_data"
    },
    {
     "data": {
      "application/vnd.jupyter.widget-view+json": {
       "model_id": "",
       "version_major": 2,
       "version_minor": 0
      },
      "text/plain": [
       "Test:   0%|          | 0/121 [00:00<?, ?it/s]"
      ]
     },
     "metadata": {},
     "output_type": "display_data"
    },
    {
     "data": {
      "application/vnd.jupyter.widget-view+json": {
       "model_id": "",
       "version_major": 2,
       "version_minor": 0
      },
      "text/plain": [
       "Test:   0%|          | 0/121 [00:00<?, ?it/s]"
      ]
     },
     "metadata": {},
     "output_type": "display_data"
    },
    {
     "data": {
      "application/vnd.jupyter.widget-view+json": {
       "model_id": "",
       "version_major": 2,
       "version_minor": 0
      },
      "text/plain": [
       "Test:   0%|          | 0/121 [00:00<?, ?it/s]"
      ]
     },
     "metadata": {},
     "output_type": "display_data"
    },
    {
     "data": {
      "application/vnd.jupyter.widget-view+json": {
       "model_id": "",
       "version_major": 2,
       "version_minor": 0
      },
      "text/plain": [
       "Test:   0%|          | 0/121 [00:00<?, ?it/s]"
      ]
     },
     "metadata": {},
     "output_type": "display_data"
    },
    {
     "data": {
      "application/vnd.jupyter.widget-view+json": {
       "model_id": "",
       "version_major": 2,
       "version_minor": 0
      },
      "text/plain": [
       "Test:   0%|          | 0/121 [00:00<?, ?it/s]"
      ]
     },
     "metadata": {},
     "output_type": "display_data"
    },
    {
     "data": {
      "application/vnd.jupyter.widget-view+json": {
       "model_id": "",
       "version_major": 2,
       "version_minor": 0
      },
      "text/plain": [
       "Test:   0%|          | 0/121 [00:00<?, ?it/s]"
      ]
     },
     "metadata": {},
     "output_type": "display_data"
    },
    {
     "data": {
      "application/vnd.jupyter.widget-view+json": {
       "model_id": "",
       "version_major": 2,
       "version_minor": 0
      },
      "text/plain": [
       "Test:   0%|          | 0/121 [00:00<?, ?it/s]"
      ]
     },
     "metadata": {},
     "output_type": "display_data"
    },
    {
     "data": {
      "application/vnd.jupyter.widget-view+json": {
       "model_id": "",
       "version_major": 2,
       "version_minor": 0
      },
      "text/plain": [
       "Test:   0%|          | 0/121 [00:00<?, ?it/s]"
      ]
     },
     "metadata": {},
     "output_type": "display_data"
    },
    {
     "data": {
      "application/vnd.jupyter.widget-view+json": {
       "model_id": "",
       "version_major": 2,
       "version_minor": 0
      },
      "text/plain": [
       "Test:   0%|          | 0/121 [00:00<?, ?it/s]"
      ]
     },
     "metadata": {},
     "output_type": "display_data"
    },
    {
     "data": {
      "application/vnd.jupyter.widget-view+json": {
       "model_id": "",
       "version_major": 2,
       "version_minor": 0
      },
      "text/plain": [
       "Test:   0%|          | 0/121 [00:00<?, ?it/s]"
      ]
     },
     "metadata": {},
     "output_type": "display_data"
    },
    {
     "data": {
      "application/vnd.jupyter.widget-view+json": {
       "model_id": "",
       "version_major": 2,
       "version_minor": 0
      },
      "text/plain": [
       "Test:   0%|          | 0/121 [00:00<?, ?it/s]"
      ]
     },
     "metadata": {},
     "output_type": "display_data"
    },
    {
     "data": {
      "application/vnd.jupyter.widget-view+json": {
       "model_id": "",
       "version_major": 2,
       "version_minor": 0
      },
      "text/plain": [
       "Test:   0%|          | 0/121 [00:00<?, ?it/s]"
      ]
     },
     "metadata": {},
     "output_type": "display_data"
    },
    {
     "data": {
      "application/vnd.jupyter.widget-view+json": {
       "model_id": "",
       "version_major": 2,
       "version_minor": 0
      },
      "text/plain": [
       "Test:   0%|          | 0/121 [00:00<?, ?it/s]"
      ]
     },
     "metadata": {},
     "output_type": "display_data"
    },
    {
     "data": {
      "application/vnd.jupyter.widget-view+json": {
       "model_id": "",
       "version_major": 2,
       "version_minor": 0
      },
      "text/plain": [
       "Test:   0%|          | 0/121 [00:00<?, ?it/s]"
      ]
     },
     "metadata": {},
     "output_type": "display_data"
    },
    {
     "data": {
      "application/vnd.jupyter.widget-view+json": {
       "model_id": "",
       "version_major": 2,
       "version_minor": 0
      },
      "text/plain": [
       "Test:   0%|          | 0/121 [00:00<?, ?it/s]"
      ]
     },
     "metadata": {},
     "output_type": "display_data"
    },
    {
     "data": {
      "application/vnd.jupyter.widget-view+json": {
       "model_id": "",
       "version_major": 2,
       "version_minor": 0
      },
      "text/plain": [
       "Test:   0%|          | 0/121 [00:00<?, ?it/s]"
      ]
     },
     "metadata": {},
     "output_type": "display_data"
    },
    {
     "data": {
      "application/vnd.jupyter.widget-view+json": {
       "model_id": "",
       "version_major": 2,
       "version_minor": 0
      },
      "text/plain": [
       "Test:   0%|          | 0/121 [00:00<?, ?it/s]"
      ]
     },
     "metadata": {},
     "output_type": "display_data"
    },
    {
     "data": {
      "application/vnd.jupyter.widget-view+json": {
       "model_id": "",
       "version_major": 2,
       "version_minor": 0
      },
      "text/plain": [
       "Test:   0%|          | 0/121 [00:00<?, ?it/s]"
      ]
     },
     "metadata": {},
     "output_type": "display_data"
    },
    {
     "data": {
      "application/vnd.jupyter.widget-view+json": {
       "model_id": "",
       "version_major": 2,
       "version_minor": 0
      },
      "text/plain": [
       "Test:   0%|          | 0/121 [00:00<?, ?it/s]"
      ]
     },
     "metadata": {},
     "output_type": "display_data"
    },
    {
     "data": {
      "application/vnd.jupyter.widget-view+json": {
       "model_id": "",
       "version_major": 2,
       "version_minor": 0
      },
      "text/plain": [
       "Test:   0%|          | 0/121 [00:00<?, ?it/s]"
      ]
     },
     "metadata": {},
     "output_type": "display_data"
    },
    {
     "data": {
      "application/vnd.jupyter.widget-view+json": {
       "model_id": "",
       "version_major": 2,
       "version_minor": 0
      },
      "text/plain": [
       "Test:   0%|          | 0/121 [00:00<?, ?it/s]"
      ]
     },
     "metadata": {},
     "output_type": "display_data"
    },
    {
     "data": {
      "application/vnd.jupyter.widget-view+json": {
       "model_id": "",
       "version_major": 2,
       "version_minor": 0
      },
      "text/plain": [
       "Test:   0%|          | 0/121 [00:00<?, ?it/s]"
      ]
     },
     "metadata": {},
     "output_type": "display_data"
    },
    {
     "data": {
      "application/vnd.jupyter.widget-view+json": {
       "model_id": "",
       "version_major": 2,
       "version_minor": 0
      },
      "text/plain": [
       "Test:   0%|          | 0/121 [00:00<?, ?it/s]"
      ]
     },
     "metadata": {},
     "output_type": "display_data"
    },
    {
     "data": {
      "application/vnd.jupyter.widget-view+json": {
       "model_id": "",
       "version_major": 2,
       "version_minor": 0
      },
      "text/plain": [
       "Test:   0%|          | 0/121 [00:00<?, ?it/s]"
      ]
     },
     "metadata": {},
     "output_type": "display_data"
    },
    {
     "data": {
      "application/vnd.jupyter.widget-view+json": {
       "model_id": "",
       "version_major": 2,
       "version_minor": 0
      },
      "text/plain": [
       "Test:   0%|          | 0/121 [00:00<?, ?it/s]"
      ]
     },
     "metadata": {},
     "output_type": "display_data"
    },
    {
     "data": {
      "application/vnd.jupyter.widget-view+json": {
       "model_id": "",
       "version_major": 2,
       "version_minor": 0
      },
      "text/plain": [
       "Test:   0%|          | 0/121 [00:00<?, ?it/s]"
      ]
     },
     "metadata": {},
     "output_type": "display_data"
    },
    {
     "data": {
      "application/vnd.jupyter.widget-view+json": {
       "model_id": "",
       "version_major": 2,
       "version_minor": 0
      },
      "text/plain": [
       "Test:   0%|          | 0/121 [00:00<?, ?it/s]"
      ]
     },
     "metadata": {},
     "output_type": "display_data"
    },
    {
     "data": {
      "application/vnd.jupyter.widget-view+json": {
       "model_id": "",
       "version_major": 2,
       "version_minor": 0
      },
      "text/plain": [
       "Test:   0%|          | 0/121 [00:00<?, ?it/s]"
      ]
     },
     "metadata": {},
     "output_type": "display_data"
    },
    {
     "data": {
      "application/vnd.jupyter.widget-view+json": {
       "model_id": "",
       "version_major": 2,
       "version_minor": 0
      },
      "text/plain": [
       "Test:   0%|          | 0/121 [00:00<?, ?it/s]"
      ]
     },
     "metadata": {},
     "output_type": "display_data"
    },
    {
     "data": {
      "application/vnd.jupyter.widget-view+json": {
       "model_id": "",
       "version_major": 2,
       "version_minor": 0
      },
      "text/plain": [
       "Test:   0%|          | 0/121 [00:00<?, ?it/s]"
      ]
     },
     "metadata": {},
     "output_type": "display_data"
    },
    {
     "data": {
      "application/vnd.jupyter.widget-view+json": {
       "model_id": "",
       "version_major": 2,
       "version_minor": 0
      },
      "text/plain": [
       "Test:   0%|          | 0/121 [00:00<?, ?it/s]"
      ]
     },
     "metadata": {},
     "output_type": "display_data"
    },
    {
     "data": {
      "application/vnd.jupyter.widget-view+json": {
       "model_id": "",
       "version_major": 2,
       "version_minor": 0
      },
      "text/plain": [
       "Test:   0%|          | 0/121 [00:00<?, ?it/s]"
      ]
     },
     "metadata": {},
     "output_type": "display_data"
    },
    {
     "data": {
      "application/vnd.jupyter.widget-view+json": {
       "model_id": "",
       "version_major": 2,
       "version_minor": 0
      },
      "text/plain": [
       "Test:   0%|          | 0/121 [00:00<?, ?it/s]"
      ]
     },
     "metadata": {},
     "output_type": "display_data"
    },
    {
     "data": {
      "application/vnd.jupyter.widget-view+json": {
       "model_id": "",
       "version_major": 2,
       "version_minor": 0
      },
      "text/plain": [
       "Test:   0%|          | 0/121 [00:00<?, ?it/s]"
      ]
     },
     "metadata": {},
     "output_type": "display_data"
    },
    {
     "data": {
      "application/vnd.jupyter.widget-view+json": {
       "model_id": "",
       "version_major": 2,
       "version_minor": 0
      },
      "text/plain": [
       "Test:   0%|          | 0/121 [00:00<?, ?it/s]"
      ]
     },
     "metadata": {},
     "output_type": "display_data"
    },
    {
     "data": {
      "application/vnd.jupyter.widget-view+json": {
       "model_id": "",
       "version_major": 2,
       "version_minor": 0
      },
      "text/plain": [
       "Test:   0%|          | 0/121 [00:00<?, ?it/s]"
      ]
     },
     "metadata": {},
     "output_type": "display_data"
    },
    {
     "data": {
      "application/vnd.jupyter.widget-view+json": {
       "model_id": "",
       "version_major": 2,
       "version_minor": 0
      },
      "text/plain": [
       "Test:   0%|          | 0/121 [00:00<?, ?it/s]"
      ]
     },
     "metadata": {},
     "output_type": "display_data"
    },
    {
     "data": {
      "application/vnd.jupyter.widget-view+json": {
       "model_id": "",
       "version_major": 2,
       "version_minor": 0
      },
      "text/plain": [
       "Test:   0%|          | 0/121 [00:00<?, ?it/s]"
      ]
     },
     "metadata": {},
     "output_type": "display_data"
    },
    {
     "data": {
      "application/vnd.jupyter.widget-view+json": {
       "model_id": "",
       "version_major": 2,
       "version_minor": 0
      },
      "text/plain": [
       "Test:   0%|          | 0/121 [00:00<?, ?it/s]"
      ]
     },
     "metadata": {},
     "output_type": "display_data"
    },
    {
     "data": {
      "application/vnd.jupyter.widget-view+json": {
       "model_id": "",
       "version_major": 2,
       "version_minor": 0
      },
      "text/plain": [
       "Test:   0%|          | 0/121 [00:00<?, ?it/s]"
      ]
     },
     "metadata": {},
     "output_type": "display_data"
    },
    {
     "data": {
      "application/vnd.jupyter.widget-view+json": {
       "model_id": "",
       "version_major": 2,
       "version_minor": 0
      },
      "text/plain": [
       "Test:   0%|          | 0/121 [00:00<?, ?it/s]"
      ]
     },
     "metadata": {},
     "output_type": "display_data"
    },
    {
     "data": {
      "application/vnd.jupyter.widget-view+json": {
       "model_id": "",
       "version_major": 2,
       "version_minor": 0
      },
      "text/plain": [
       "Test:   0%|          | 0/121 [00:00<?, ?it/s]"
      ]
     },
     "metadata": {},
     "output_type": "display_data"
    },
    {
     "data": {
      "application/vnd.jupyter.widget-view+json": {
       "model_id": "",
       "version_major": 2,
       "version_minor": 0
      },
      "text/plain": [
       "Test:   0%|          | 0/121 [00:00<?, ?it/s]"
      ]
     },
     "metadata": {},
     "output_type": "display_data"
    },
    {
     "data": {
      "application/vnd.jupyter.widget-view+json": {
       "model_id": "",
       "version_major": 2,
       "version_minor": 0
      },
      "text/plain": [
       "Test:   0%|          | 0/121 [00:00<?, ?it/s]"
      ]
     },
     "metadata": {},
     "output_type": "display_data"
    },
    {
     "data": {
      "application/vnd.jupyter.widget-view+json": {
       "model_id": "",
       "version_major": 2,
       "version_minor": 0
      },
      "text/plain": [
       "Test:   0%|          | 0/121 [00:00<?, ?it/s]"
      ]
     },
     "metadata": {},
     "output_type": "display_data"
    },
    {
     "data": {
      "application/vnd.jupyter.widget-view+json": {
       "model_id": "",
       "version_major": 2,
       "version_minor": 0
      },
      "text/plain": [
       "Test:   0%|          | 0/121 [00:00<?, ?it/s]"
      ]
     },
     "metadata": {},
     "output_type": "display_data"
    },
    {
     "data": {
      "application/vnd.jupyter.widget-view+json": {
       "model_id": "",
       "version_major": 2,
       "version_minor": 0
      },
      "text/plain": [
       "Test:   0%|          | 0/121 [00:00<?, ?it/s]"
      ]
     },
     "metadata": {},
     "output_type": "display_data"
    },
    {
     "data": {
      "application/vnd.jupyter.widget-view+json": {
       "model_id": "",
       "version_major": 2,
       "version_minor": 0
      },
      "text/plain": [
       "Test:   0%|          | 0/121 [00:00<?, ?it/s]"
      ]
     },
     "metadata": {},
     "output_type": "display_data"
    },
    {
     "data": {
      "application/vnd.jupyter.widget-view+json": {
       "model_id": "",
       "version_major": 2,
       "version_minor": 0
      },
      "text/plain": [
       "Test:   0%|          | 0/121 [00:00<?, ?it/s]"
      ]
     },
     "metadata": {},
     "output_type": "display_data"
    },
    {
     "data": {
      "application/vnd.jupyter.widget-view+json": {
       "model_id": "",
       "version_major": 2,
       "version_minor": 0
      },
      "text/plain": [
       "Test:   0%|          | 0/121 [00:00<?, ?it/s]"
      ]
     },
     "metadata": {},
     "output_type": "display_data"
    },
    {
     "data": {
      "application/vnd.jupyter.widget-view+json": {
       "model_id": "",
       "version_major": 2,
       "version_minor": 0
      },
      "text/plain": [
       "Test:   0%|          | 0/121 [00:00<?, ?it/s]"
      ]
     },
     "metadata": {},
     "output_type": "display_data"
    },
    {
     "data": {
      "application/vnd.jupyter.widget-view+json": {
       "model_id": "",
       "version_major": 2,
       "version_minor": 0
      },
      "text/plain": [
       "Test:   0%|          | 0/121 [00:00<?, ?it/s]"
      ]
     },
     "metadata": {},
     "output_type": "display_data"
    }
   ],
   "source": [
    "def get_best_models(path_to_models, path_to_data, untuned=True):\n",
    "    subdir = ('untuned' if untuned else 'tuned')\n",
    "    path_to_test_set = path_to_data / subdir / 'test.pt'\n",
    "    dataset = DataLoader(BertFactorRiterDataset.load(path_to_test_set), shuffle=False, batch_size=512)\n",
    "    all_results = []\n",
    "    for run in range(1, 6):\n",
    "        all_results.append([])\n",
    "        for keys in powerset():\n",
    "            model_subdir = path_to_models / f'{subdir}-{run}'\n",
    "            f1 = eval_model(keys, model_subdir, dataset)\n",
    "            all_results[-1].append(f1)\n",
    "    return all_results\n",
    "    \n",
    "all_wsd_f1 = np.array(get_best_models(MODELS_PATH, DATA_PATH))* 100"
   ]
  },
  {
   "cell_type": "code",
   "execution_count": 25,
   "id": "d808aafc",
   "metadata": {
    "scrolled": false
   },
   "outputs": [
    {
     "name": "stdout",
     "output_type": "stream",
     "text": [
      " &&\n",
      "{\\gradC} 14.925487293085993 & {\\gradK} 32.89274940603739 & {\\gradF} 31.11541102910062 & {\\gradA} 4.924466891933662 & {\\gradD} 20.954431035502612 & {\\gradE} 30.623264378747727 & {\\gradB} 12.806387109056699 & {\\gradH} 31.768447168677316 & {\\gradO\\bestCell{34.62474424197677}} & {\\gradI\\bestCell{32.42514452066802}} & {\\gradN} 34.0286710283412 & {\\gradJ} 32.52460058284885 & {\\gradG} 31.44503037906211 & {\\gradM} 33.8473243861131 & {\\gradL} 32.947501604670684\n",
      "\\\\\n",
      " &&\n",
      "{\\gradC\\bestCell{15.790921559066351}} & {\\gradM\\bestCell{34.156410085837294}} & {\\gradG} 31.05029159515828 & {\\gradA} 4.8796685520470815 & {\\gradO\\bestCell{34.384148690759126}} & {\\gradH} 31.07969823890693 & {\\gradB} 10.261161846763434 & {\\gradN} 34.308950588092124 & {\\gradK} 33.12237671365441 & {\\gradD} 30.13882118146335 & {\\gradI} 31.844803043188307 & {\\gradJ} 32.57258354841511 & {\\gradE} 30.48107932510228 & {\\gradL\\bestCell{33.99345960747829}} & {\\gradF} 30.819491947859873\n",
      "\\\\\n",
      " &&\n",
      "{\\gradC} 15.458678510110394 & {\\gradF} 29.94263956799924 & {\\gradE} 28.9205555410673 & {\\gradA} 4.917086614618284 & {\\gradM} 33.728051946940376 & {\\gradG} 30.488305930170483 & {\\gradB\\bestCell{13.71941860539126}} & {\\gradH} 31.47998387678794 & {\\gradI} 32.18006277225617 & {\\gradD} 17.350763048165785 & {\\gradO\\bestCell{34.67656003045336}} & {\\gradN\\bestCell{34.46144009497011}} & {\\gradK\\bestCell{32.71835818228324}} & {\\gradL} 32.82305186612183 & {\\gradJ} 32.41781934495527\n",
      "\\\\\n",
      " &&\n",
      "{\\gradC} 15.549833563768962 & {\\gradM} 33.95086724746083 & {\\gradE} 31.358989787669827 & {\\gradA\\bestCell{5.324272164802305}} & {\\gradK} 33.16013653829686 & {\\gradI\\bestCell{32.03187423520723}} & {\\gradB} 12.884591584949442 & {\\gradO\\bestCell{34.317336543551754}} & {\\gradL} 33.37172396518168 & {\\gradD} 31.08565947345796 & {\\gradH} 31.802510045449434 & {\\gradJ} 32.9099549108776 & {\\gradF} 31.423155955813954 & {\\gradG} 31.720035956875535 & {\\gradN\\bestCell{34.00727397916435}}\n",
      "\\\\\n",
      " &&\n",
      "{\\gradA} 4.5206564799094515 & {\\gradM} 33.6245710522088 & {\\gradJ\\bestCell{31.375827359664086}} & {\\gradB} 5.281808160854706 & {\\gradF} 28.222159034535032 & {\\gradE} 27.997769982633276 & {\\gradC} 12.198530314513148 & {\\gradK} 31.994845730426917 & {\\gradN} 33.69700842848452 & {\\gradG} 30.44969953592391 & {\\gradH} 31.19183889009065 & {\\gradO} 33.80190766962302 & {\\gradL} 32.71127477054909 & {\\gradD} 13.62734046649534 & {\\gradI} 31.326034275546128\n",
      "\\\\\n"
     ]
    }
   ],
   "source": [
    "grad_cmds = [\"\\\\\" + f'grad{chr(c)}' for c in range(ord('A'), ord('O')+1)]\n",
    "def get_ranks(run):\n",
    "    ranks = np.empty_like(run)\n",
    "    ranks[run.argsort()] = np.arange(run.shape[0])\n",
    "    return ranks\n",
    "\n",
    "shades  = np.array([get_ranks(run) for run in all_wsd_f1]).astype(int)\n",
    "best_run = all_wsd_f1.argmax(0)\n",
    "individual_cells = [[] for _ in range(5)]\n",
    "for key_idx in range(all_wsd_f1.shape[1]):\n",
    "    for run_idx in range(all_wsd_f1.shape[0]):\n",
    "        grad_cmd = grad_cmds[shades[run_idx,key_idx]]\n",
    "        score = str(all_wsd_f1[run_idx,key_idx]) \n",
    "        if best_run[key_idx] == run_idx:\n",
    "            cell_value = \"{\" + grad_cmd + \"\\\\bestCell{\" + score + \"}}\"\n",
    "        else:\n",
    "            cell_value = \"{\" + grad_cmd + \"} \" + score\n",
    "        individual_cells[run_idx].append(cell_value)\n",
    "print(*[\" &&\\n\" + \" & \".join(single_run) +\"\\n\\\\\\\\\" for single_run in individual_cells ], sep=\"\\n\")"
   ]
  },
  {
   "cell_type": "code",
   "execution_count": 26,
   "id": "c63a77c7",
   "metadata": {},
   "outputs": [
    {
     "name": "stdout",
     "output_type": "stream",
     "text": [
      "{\\gradC} 13.24911548118823 & {\\gradM} 32.91344747190871 & {\\gradH} 30.764215062532024 & {\\gradA} 5.065460476851208 & {\\gradF} 30.0897854492068 & {\\gradG} 30.44418255313313 & {\\gradB} 12.374017892134797 & {\\gradL} 32.773912781507214 & {\\gradO} 33.399183224310704 & {\\gradD} 28.290017551935808 & {\\gradK} 32.70887660750459 & {\\gradN} 33.25409736134693 & {\\gradI} 31.755779722562135 & {\\gradE} 29.20224245661682 & {\\gradJ} 32.30362423043927\n",
      "{{$\\pm$\\numprint{4.373384721255649}}} & {{$\\pm$\\numprint{1.5461578579596194}}} & {{$\\pm$\\numprint{0.9308152766480522}}} & {{$\\pm$\\numprint{0.19503971057095618}}} & {{$\\pm$\\numprint{5.060599238389999}}} & {{$\\pm$\\numprint{1.3374301254239922}}} & {{$\\pm$\\numprint{1.1621263505427342}}} & {{$\\pm$\\numprint{1.2673323601975217}}} & {{$\\pm$\\numprint{0.7942707588895789}}} & {{$\\pm$\\numprint{5.525657952347001}}} & {{$\\pm$\\numprint{1.3771827962646972}}} & {{$\\pm$\\numprint{0.7580017498076391}}} & {{$\\pm$\\numprint{0.856923906286014}}} & {{$\\pm$\\numprint{7.8301936733421496}}} & {{$\\pm$\\numprint{1.1391551093384786}}}\n"
     ]
    }
   ],
   "source": [
    "means = all_wsd_f1.mean(0)\n",
    "shades = get_ranks(means).astype(int)\n",
    "single_run = []\n",
    "for key_idx in range(all_wsd_f1.shape[1]):\n",
    "    grad_cmd = grad_cmds[shades[key_idx]]\n",
    "    score = str(means[key_idx]) \n",
    "    cell_value = \"{\" + grad_cmd + \"} \" + score\n",
    "    single_run.append(cell_value)\n",
    "print(\" & \".join(single_run), sep=\"\\n\")\n",
    "\n",
    "\n",
    "print(\" & \".join(\"{{$\\pm$\\\\numprint{\" + s + \"}}}\" for s in  all_wsd_f1.std(0).astype(str)))"
   ]
  },
  {
   "cell_type": "code",
   "execution_count": 27,
   "id": "690e9982",
   "metadata": {},
   "outputs": [
    {
     "data": {
      "application/vnd.jupyter.widget-view+json": {
       "model_id": "",
       "version_major": 2,
       "version_minor": 0
      },
      "text/plain": [
       "Test:   0%|          | 0/121 [00:00<?, ?it/s]"
      ]
     },
     "metadata": {},
     "output_type": "display_data"
    },
    {
     "data": {
      "application/vnd.jupyter.widget-view+json": {
       "model_id": "",
       "version_major": 2,
       "version_minor": 0
      },
      "text/plain": [
       "Test:   0%|          | 0/121 [00:00<?, ?it/s]"
      ]
     },
     "metadata": {},
     "output_type": "display_data"
    },
    {
     "data": {
      "application/vnd.jupyter.widget-view+json": {
       "model_id": "",
       "version_major": 2,
       "version_minor": 0
      },
      "text/plain": [
       "Test:   0%|          | 0/121 [00:00<?, ?it/s]"
      ]
     },
     "metadata": {},
     "output_type": "display_data"
    },
    {
     "data": {
      "application/vnd.jupyter.widget-view+json": {
       "model_id": "",
       "version_major": 2,
       "version_minor": 0
      },
      "text/plain": [
       "Test:   0%|          | 0/121 [00:00<?, ?it/s]"
      ]
     },
     "metadata": {},
     "output_type": "display_data"
    },
    {
     "data": {
      "application/vnd.jupyter.widget-view+json": {
       "model_id": "",
       "version_major": 2,
       "version_minor": 0
      },
      "text/plain": [
       "Test:   0%|          | 0/121 [00:00<?, ?it/s]"
      ]
     },
     "metadata": {},
     "output_type": "display_data"
    },
    {
     "data": {
      "application/vnd.jupyter.widget-view+json": {
       "model_id": "",
       "version_major": 2,
       "version_minor": 0
      },
      "text/plain": [
       "Test:   0%|          | 0/121 [00:00<?, ?it/s]"
      ]
     },
     "metadata": {},
     "output_type": "display_data"
    },
    {
     "data": {
      "application/vnd.jupyter.widget-view+json": {
       "model_id": "",
       "version_major": 2,
       "version_minor": 0
      },
      "text/plain": [
       "Test:   0%|          | 0/121 [00:00<?, ?it/s]"
      ]
     },
     "metadata": {},
     "output_type": "display_data"
    },
    {
     "data": {
      "application/vnd.jupyter.widget-view+json": {
       "model_id": "",
       "version_major": 2,
       "version_minor": 0
      },
      "text/plain": [
       "Test:   0%|          | 0/121 [00:00<?, ?it/s]"
      ]
     },
     "metadata": {},
     "output_type": "display_data"
    },
    {
     "data": {
      "application/vnd.jupyter.widget-view+json": {
       "model_id": "",
       "version_major": 2,
       "version_minor": 0
      },
      "text/plain": [
       "Test:   0%|          | 0/121 [00:00<?, ?it/s]"
      ]
     },
     "metadata": {},
     "output_type": "display_data"
    },
    {
     "data": {
      "application/vnd.jupyter.widget-view+json": {
       "model_id": "",
       "version_major": 2,
       "version_minor": 0
      },
      "text/plain": [
       "Test:   0%|          | 0/121 [00:00<?, ?it/s]"
      ]
     },
     "metadata": {},
     "output_type": "display_data"
    },
    {
     "data": {
      "application/vnd.jupyter.widget-view+json": {
       "model_id": "",
       "version_major": 2,
       "version_minor": 0
      },
      "text/plain": [
       "Test:   0%|          | 0/121 [00:00<?, ?it/s]"
      ]
     },
     "metadata": {},
     "output_type": "display_data"
    },
    {
     "data": {
      "application/vnd.jupyter.widget-view+json": {
       "model_id": "",
       "version_major": 2,
       "version_minor": 0
      },
      "text/plain": [
       "Test:   0%|          | 0/121 [00:00<?, ?it/s]"
      ]
     },
     "metadata": {},
     "output_type": "display_data"
    },
    {
     "data": {
      "application/vnd.jupyter.widget-view+json": {
       "model_id": "",
       "version_major": 2,
       "version_minor": 0
      },
      "text/plain": [
       "Test:   0%|          | 0/121 [00:00<?, ?it/s]"
      ]
     },
     "metadata": {},
     "output_type": "display_data"
    },
    {
     "data": {
      "application/vnd.jupyter.widget-view+json": {
       "model_id": "",
       "version_major": 2,
       "version_minor": 0
      },
      "text/plain": [
       "Test:   0%|          | 0/121 [00:00<?, ?it/s]"
      ]
     },
     "metadata": {},
     "output_type": "display_data"
    },
    {
     "data": {
      "application/vnd.jupyter.widget-view+json": {
       "model_id": "",
       "version_major": 2,
       "version_minor": 0
      },
      "text/plain": [
       "Test:   0%|          | 0/121 [00:00<?, ?it/s]"
      ]
     },
     "metadata": {},
     "output_type": "display_data"
    },
    {
     "data": {
      "application/vnd.jupyter.widget-view+json": {
       "model_id": "",
       "version_major": 2,
       "version_minor": 0
      },
      "text/plain": [
       "Test:   0%|          | 0/121 [00:00<?, ?it/s]"
      ]
     },
     "metadata": {},
     "output_type": "display_data"
    },
    {
     "data": {
      "application/vnd.jupyter.widget-view+json": {
       "model_id": "",
       "version_major": 2,
       "version_minor": 0
      },
      "text/plain": [
       "Test:   0%|          | 0/121 [00:00<?, ?it/s]"
      ]
     },
     "metadata": {},
     "output_type": "display_data"
    },
    {
     "data": {
      "application/vnd.jupyter.widget-view+json": {
       "model_id": "",
       "version_major": 2,
       "version_minor": 0
      },
      "text/plain": [
       "Test:   0%|          | 0/121 [00:00<?, ?it/s]"
      ]
     },
     "metadata": {},
     "output_type": "display_data"
    },
    {
     "data": {
      "application/vnd.jupyter.widget-view+json": {
       "model_id": "",
       "version_major": 2,
       "version_minor": 0
      },
      "text/plain": [
       "Test:   0%|          | 0/121 [00:00<?, ?it/s]"
      ]
     },
     "metadata": {},
     "output_type": "display_data"
    },
    {
     "data": {
      "application/vnd.jupyter.widget-view+json": {
       "model_id": "",
       "version_major": 2,
       "version_minor": 0
      },
      "text/plain": [
       "Test:   0%|          | 0/121 [00:00<?, ?it/s]"
      ]
     },
     "metadata": {},
     "output_type": "display_data"
    },
    {
     "data": {
      "application/vnd.jupyter.widget-view+json": {
       "model_id": "",
       "version_major": 2,
       "version_minor": 0
      },
      "text/plain": [
       "Test:   0%|          | 0/121 [00:00<?, ?it/s]"
      ]
     },
     "metadata": {},
     "output_type": "display_data"
    },
    {
     "data": {
      "application/vnd.jupyter.widget-view+json": {
       "model_id": "",
       "version_major": 2,
       "version_minor": 0
      },
      "text/plain": [
       "Test:   0%|          | 0/121 [00:00<?, ?it/s]"
      ]
     },
     "metadata": {},
     "output_type": "display_data"
    },
    {
     "data": {
      "application/vnd.jupyter.widget-view+json": {
       "model_id": "",
       "version_major": 2,
       "version_minor": 0
      },
      "text/plain": [
       "Test:   0%|          | 0/121 [00:00<?, ?it/s]"
      ]
     },
     "metadata": {},
     "output_type": "display_data"
    },
    {
     "data": {
      "application/vnd.jupyter.widget-view+json": {
       "model_id": "",
       "version_major": 2,
       "version_minor": 0
      },
      "text/plain": [
       "Test:   0%|          | 0/121 [00:00<?, ?it/s]"
      ]
     },
     "metadata": {},
     "output_type": "display_data"
    },
    {
     "data": {
      "application/vnd.jupyter.widget-view+json": {
       "model_id": "",
       "version_major": 2,
       "version_minor": 0
      },
      "text/plain": [
       "Test:   0%|          | 0/121 [00:00<?, ?it/s]"
      ]
     },
     "metadata": {},
     "output_type": "display_data"
    },
    {
     "data": {
      "application/vnd.jupyter.widget-view+json": {
       "model_id": "",
       "version_major": 2,
       "version_minor": 0
      },
      "text/plain": [
       "Test:   0%|          | 0/121 [00:00<?, ?it/s]"
      ]
     },
     "metadata": {},
     "output_type": "display_data"
    },
    {
     "data": {
      "application/vnd.jupyter.widget-view+json": {
       "model_id": "",
       "version_major": 2,
       "version_minor": 0
      },
      "text/plain": [
       "Test:   0%|          | 0/121 [00:00<?, ?it/s]"
      ]
     },
     "metadata": {},
     "output_type": "display_data"
    },
    {
     "data": {
      "application/vnd.jupyter.widget-view+json": {
       "model_id": "",
       "version_major": 2,
       "version_minor": 0
      },
      "text/plain": [
       "Test:   0%|          | 0/121 [00:00<?, ?it/s]"
      ]
     },
     "metadata": {},
     "output_type": "display_data"
    },
    {
     "data": {
      "application/vnd.jupyter.widget-view+json": {
       "model_id": "",
       "version_major": 2,
       "version_minor": 0
      },
      "text/plain": [
       "Test:   0%|          | 0/121 [00:00<?, ?it/s]"
      ]
     },
     "metadata": {},
     "output_type": "display_data"
    },
    {
     "data": {
      "application/vnd.jupyter.widget-view+json": {
       "model_id": "",
       "version_major": 2,
       "version_minor": 0
      },
      "text/plain": [
       "Test:   0%|          | 0/121 [00:00<?, ?it/s]"
      ]
     },
     "metadata": {},
     "output_type": "display_data"
    },
    {
     "data": {
      "application/vnd.jupyter.widget-view+json": {
       "model_id": "",
       "version_major": 2,
       "version_minor": 0
      },
      "text/plain": [
       "Test:   0%|          | 0/121 [00:00<?, ?it/s]"
      ]
     },
     "metadata": {},
     "output_type": "display_data"
    },
    {
     "data": {
      "application/vnd.jupyter.widget-view+json": {
       "model_id": "",
       "version_major": 2,
       "version_minor": 0
      },
      "text/plain": [
       "Test:   0%|          | 0/121 [00:00<?, ?it/s]"
      ]
     },
     "metadata": {},
     "output_type": "display_data"
    },
    {
     "data": {
      "application/vnd.jupyter.widget-view+json": {
       "model_id": "",
       "version_major": 2,
       "version_minor": 0
      },
      "text/plain": [
       "Test:   0%|          | 0/121 [00:00<?, ?it/s]"
      ]
     },
     "metadata": {},
     "output_type": "display_data"
    },
    {
     "data": {
      "application/vnd.jupyter.widget-view+json": {
       "model_id": "",
       "version_major": 2,
       "version_minor": 0
      },
      "text/plain": [
       "Test:   0%|          | 0/121 [00:00<?, ?it/s]"
      ]
     },
     "metadata": {},
     "output_type": "display_data"
    },
    {
     "data": {
      "application/vnd.jupyter.widget-view+json": {
       "model_id": "",
       "version_major": 2,
       "version_minor": 0
      },
      "text/plain": [
       "Test:   0%|          | 0/121 [00:00<?, ?it/s]"
      ]
     },
     "metadata": {},
     "output_type": "display_data"
    },
    {
     "data": {
      "application/vnd.jupyter.widget-view+json": {
       "model_id": "",
       "version_major": 2,
       "version_minor": 0
      },
      "text/plain": [
       "Test:   0%|          | 0/121 [00:00<?, ?it/s]"
      ]
     },
     "metadata": {},
     "output_type": "display_data"
    },
    {
     "data": {
      "application/vnd.jupyter.widget-view+json": {
       "model_id": "",
       "version_major": 2,
       "version_minor": 0
      },
      "text/plain": [
       "Test:   0%|          | 0/121 [00:00<?, ?it/s]"
      ]
     },
     "metadata": {},
     "output_type": "display_data"
    },
    {
     "data": {
      "application/vnd.jupyter.widget-view+json": {
       "model_id": "",
       "version_major": 2,
       "version_minor": 0
      },
      "text/plain": [
       "Test:   0%|          | 0/121 [00:00<?, ?it/s]"
      ]
     },
     "metadata": {},
     "output_type": "display_data"
    },
    {
     "data": {
      "application/vnd.jupyter.widget-view+json": {
       "model_id": "",
       "version_major": 2,
       "version_minor": 0
      },
      "text/plain": [
       "Test:   0%|          | 0/121 [00:00<?, ?it/s]"
      ]
     },
     "metadata": {},
     "output_type": "display_data"
    },
    {
     "data": {
      "application/vnd.jupyter.widget-view+json": {
       "model_id": "",
       "version_major": 2,
       "version_minor": 0
      },
      "text/plain": [
       "Test:   0%|          | 0/121 [00:00<?, ?it/s]"
      ]
     },
     "metadata": {},
     "output_type": "display_data"
    },
    {
     "data": {
      "application/vnd.jupyter.widget-view+json": {
       "model_id": "",
       "version_major": 2,
       "version_minor": 0
      },
      "text/plain": [
       "Test:   0%|          | 0/121 [00:00<?, ?it/s]"
      ]
     },
     "metadata": {},
     "output_type": "display_data"
    },
    {
     "data": {
      "application/vnd.jupyter.widget-view+json": {
       "model_id": "",
       "version_major": 2,
       "version_minor": 0
      },
      "text/plain": [
       "Test:   0%|          | 0/121 [00:00<?, ?it/s]"
      ]
     },
     "metadata": {},
     "output_type": "display_data"
    },
    {
     "data": {
      "application/vnd.jupyter.widget-view+json": {
       "model_id": "",
       "version_major": 2,
       "version_minor": 0
      },
      "text/plain": [
       "Test:   0%|          | 0/121 [00:00<?, ?it/s]"
      ]
     },
     "metadata": {},
     "output_type": "display_data"
    },
    {
     "data": {
      "application/vnd.jupyter.widget-view+json": {
       "model_id": "",
       "version_major": 2,
       "version_minor": 0
      },
      "text/plain": [
       "Test:   0%|          | 0/121 [00:00<?, ?it/s]"
      ]
     },
     "metadata": {},
     "output_type": "display_data"
    },
    {
     "data": {
      "application/vnd.jupyter.widget-view+json": {
       "model_id": "",
       "version_major": 2,
       "version_minor": 0
      },
      "text/plain": [
       "Test:   0%|          | 0/121 [00:00<?, ?it/s]"
      ]
     },
     "metadata": {},
     "output_type": "display_data"
    },
    {
     "data": {
      "application/vnd.jupyter.widget-view+json": {
       "model_id": "",
       "version_major": 2,
       "version_minor": 0
      },
      "text/plain": [
       "Test:   0%|          | 0/121 [00:00<?, ?it/s]"
      ]
     },
     "metadata": {},
     "output_type": "display_data"
    },
    {
     "data": {
      "application/vnd.jupyter.widget-view+json": {
       "model_id": "",
       "version_major": 2,
       "version_minor": 0
      },
      "text/plain": [
       "Test:   0%|          | 0/121 [00:00<?, ?it/s]"
      ]
     },
     "metadata": {},
     "output_type": "display_data"
    },
    {
     "data": {
      "application/vnd.jupyter.widget-view+json": {
       "model_id": "",
       "version_major": 2,
       "version_minor": 0
      },
      "text/plain": [
       "Test:   0%|          | 0/121 [00:00<?, ?it/s]"
      ]
     },
     "metadata": {},
     "output_type": "display_data"
    },
    {
     "data": {
      "application/vnd.jupyter.widget-view+json": {
       "model_id": "",
       "version_major": 2,
       "version_minor": 0
      },
      "text/plain": [
       "Test:   0%|          | 0/121 [00:00<?, ?it/s]"
      ]
     },
     "metadata": {},
     "output_type": "display_data"
    },
    {
     "data": {
      "application/vnd.jupyter.widget-view+json": {
       "model_id": "",
       "version_major": 2,
       "version_minor": 0
      },
      "text/plain": [
       "Test:   0%|          | 0/121 [00:00<?, ?it/s]"
      ]
     },
     "metadata": {},
     "output_type": "display_data"
    },
    {
     "data": {
      "application/vnd.jupyter.widget-view+json": {
       "model_id": "",
       "version_major": 2,
       "version_minor": 0
      },
      "text/plain": [
       "Test:   0%|          | 0/121 [00:00<?, ?it/s]"
      ]
     },
     "metadata": {},
     "output_type": "display_data"
    },
    {
     "data": {
      "application/vnd.jupyter.widget-view+json": {
       "model_id": "",
       "version_major": 2,
       "version_minor": 0
      },
      "text/plain": [
       "Test:   0%|          | 0/121 [00:00<?, ?it/s]"
      ]
     },
     "metadata": {},
     "output_type": "display_data"
    },
    {
     "data": {
      "application/vnd.jupyter.widget-view+json": {
       "model_id": "",
       "version_major": 2,
       "version_minor": 0
      },
      "text/plain": [
       "Test:   0%|          | 0/121 [00:00<?, ?it/s]"
      ]
     },
     "metadata": {},
     "output_type": "display_data"
    },
    {
     "data": {
      "application/vnd.jupyter.widget-view+json": {
       "model_id": "",
       "version_major": 2,
       "version_minor": 0
      },
      "text/plain": [
       "Test:   0%|          | 0/121 [00:00<?, ?it/s]"
      ]
     },
     "metadata": {},
     "output_type": "display_data"
    },
    {
     "data": {
      "application/vnd.jupyter.widget-view+json": {
       "model_id": "",
       "version_major": 2,
       "version_minor": 0
      },
      "text/plain": [
       "Test:   0%|          | 0/121 [00:00<?, ?it/s]"
      ]
     },
     "metadata": {},
     "output_type": "display_data"
    },
    {
     "data": {
      "application/vnd.jupyter.widget-view+json": {
       "model_id": "",
       "version_major": 2,
       "version_minor": 0
      },
      "text/plain": [
       "Test:   0%|          | 0/121 [00:00<?, ?it/s]"
      ]
     },
     "metadata": {},
     "output_type": "display_data"
    },
    {
     "data": {
      "application/vnd.jupyter.widget-view+json": {
       "model_id": "",
       "version_major": 2,
       "version_minor": 0
      },
      "text/plain": [
       "Test:   0%|          | 0/121 [00:00<?, ?it/s]"
      ]
     },
     "metadata": {},
     "output_type": "display_data"
    },
    {
     "data": {
      "application/vnd.jupyter.widget-view+json": {
       "model_id": "",
       "version_major": 2,
       "version_minor": 0
      },
      "text/plain": [
       "Test:   0%|          | 0/121 [00:00<?, ?it/s]"
      ]
     },
     "metadata": {},
     "output_type": "display_data"
    },
    {
     "data": {
      "application/vnd.jupyter.widget-view+json": {
       "model_id": "",
       "version_major": 2,
       "version_minor": 0
      },
      "text/plain": [
       "Test:   0%|          | 0/121 [00:00<?, ?it/s]"
      ]
     },
     "metadata": {},
     "output_type": "display_data"
    },
    {
     "data": {
      "application/vnd.jupyter.widget-view+json": {
       "model_id": "",
       "version_major": 2,
       "version_minor": 0
      },
      "text/plain": [
       "Test:   0%|          | 0/121 [00:00<?, ?it/s]"
      ]
     },
     "metadata": {},
     "output_type": "display_data"
    },
    {
     "data": {
      "application/vnd.jupyter.widget-view+json": {
       "model_id": "",
       "version_major": 2,
       "version_minor": 0
      },
      "text/plain": [
       "Test:   0%|          | 0/121 [00:00<?, ?it/s]"
      ]
     },
     "metadata": {},
     "output_type": "display_data"
    },
    {
     "data": {
      "application/vnd.jupyter.widget-view+json": {
       "model_id": "",
       "version_major": 2,
       "version_minor": 0
      },
      "text/plain": [
       "Test:   0%|          | 0/121 [00:00<?, ?it/s]"
      ]
     },
     "metadata": {},
     "output_type": "display_data"
    },
    {
     "data": {
      "application/vnd.jupyter.widget-view+json": {
       "model_id": "",
       "version_major": 2,
       "version_minor": 0
      },
      "text/plain": [
       "Test:   0%|          | 0/121 [00:00<?, ?it/s]"
      ]
     },
     "metadata": {},
     "output_type": "display_data"
    },
    {
     "data": {
      "application/vnd.jupyter.widget-view+json": {
       "model_id": "",
       "version_major": 2,
       "version_minor": 0
      },
      "text/plain": [
       "Test:   0%|          | 0/121 [00:00<?, ?it/s]"
      ]
     },
     "metadata": {},
     "output_type": "display_data"
    },
    {
     "data": {
      "application/vnd.jupyter.widget-view+json": {
       "model_id": "",
       "version_major": 2,
       "version_minor": 0
      },
      "text/plain": [
       "Test:   0%|          | 0/121 [00:00<?, ?it/s]"
      ]
     },
     "metadata": {},
     "output_type": "display_data"
    },
    {
     "data": {
      "application/vnd.jupyter.widget-view+json": {
       "model_id": "",
       "version_major": 2,
       "version_minor": 0
      },
      "text/plain": [
       "Test:   0%|          | 0/121 [00:00<?, ?it/s]"
      ]
     },
     "metadata": {},
     "output_type": "display_data"
    },
    {
     "data": {
      "application/vnd.jupyter.widget-view+json": {
       "model_id": "",
       "version_major": 2,
       "version_minor": 0
      },
      "text/plain": [
       "Test:   0%|          | 0/121 [00:00<?, ?it/s]"
      ]
     },
     "metadata": {},
     "output_type": "display_data"
    },
    {
     "data": {
      "application/vnd.jupyter.widget-view+json": {
       "model_id": "",
       "version_major": 2,
       "version_minor": 0
      },
      "text/plain": [
       "Test:   0%|          | 0/121 [00:00<?, ?it/s]"
      ]
     },
     "metadata": {},
     "output_type": "display_data"
    },
    {
     "data": {
      "application/vnd.jupyter.widget-view+json": {
       "model_id": "",
       "version_major": 2,
       "version_minor": 0
      },
      "text/plain": [
       "Test:   0%|          | 0/121 [00:00<?, ?it/s]"
      ]
     },
     "metadata": {},
     "output_type": "display_data"
    },
    {
     "data": {
      "application/vnd.jupyter.widget-view+json": {
       "model_id": "",
       "version_major": 2,
       "version_minor": 0
      },
      "text/plain": [
       "Test:   0%|          | 0/121 [00:00<?, ?it/s]"
      ]
     },
     "metadata": {},
     "output_type": "display_data"
    },
    {
     "data": {
      "application/vnd.jupyter.widget-view+json": {
       "model_id": "",
       "version_major": 2,
       "version_minor": 0
      },
      "text/plain": [
       "Test:   0%|          | 0/121 [00:00<?, ?it/s]"
      ]
     },
     "metadata": {},
     "output_type": "display_data"
    },
    {
     "data": {
      "application/vnd.jupyter.widget-view+json": {
       "model_id": "",
       "version_major": 2,
       "version_minor": 0
      },
      "text/plain": [
       "Test:   0%|          | 0/121 [00:00<?, ?it/s]"
      ]
     },
     "metadata": {},
     "output_type": "display_data"
    },
    {
     "data": {
      "application/vnd.jupyter.widget-view+json": {
       "model_id": "",
       "version_major": 2,
       "version_minor": 0
      },
      "text/plain": [
       "Test:   0%|          | 0/121 [00:00<?, ?it/s]"
      ]
     },
     "metadata": {},
     "output_type": "display_data"
    },
    {
     "data": {
      "application/vnd.jupyter.widget-view+json": {
       "model_id": "",
       "version_major": 2,
       "version_minor": 0
      },
      "text/plain": [
       "Test:   0%|          | 0/121 [00:00<?, ?it/s]"
      ]
     },
     "metadata": {},
     "output_type": "display_data"
    },
    {
     "data": {
      "application/vnd.jupyter.widget-view+json": {
       "model_id": "",
       "version_major": 2,
       "version_minor": 0
      },
      "text/plain": [
       "Test:   0%|          | 0/121 [00:00<?, ?it/s]"
      ]
     },
     "metadata": {},
     "output_type": "display_data"
    },
    {
     "name": "stdout",
     "output_type": "stream",
     "text": [
      " &&\n",
      "{\\gradC\\bestCell{16.27753618335451}} & {\\gradM} 39.23859083686958 & {\\gradD} 36.962535752528076 & {\\gradA} 12.229267478987357 & {\\gradN\\bestCell{39.922041727698556}} & {\\gradI} 38.65491696901654 & {\\gradB} 15.698953548896993 & {\\gradF} 37.39018182789866 & {\\gradK} 38.673786447637944 & {\\gradH} 38.2483696626909 & {\\gradJ} 38.669882762078565 & {\\gradO\\bestCell{40.173118405709715}} & {\\gradL} 39.00585098563675 & {\\gradE} 37.29527147504887 & {\\gradG} 37.45978676674074\n",
      "\\\\\n",
      " &&\n",
      "{\\gradA} 5.065561627975216 & {\\gradO} 39.62258914360729 & {\\gradK} 38.80035528309326 & {\\gradC} 8.689602400372053 & {\\gradH} 38.58216490006029 & {\\gradN\\bestCell{39.496565904296304}} & {\\gradB} 6.356744201261226 & {\\gradE} 37.673636551208176 & {\\gradL} 38.86235118804534 & {\\gradF} 37.851658262985914 & {\\gradJ} 38.767700508415324 & {\\gradG} 38.01439853098153 & {\\gradM} 39.30704365540667 & {\\gradD} 37.65002298830424 & {\\gradI} 38.59927839956613\n",
      "\\\\\n",
      " &&\n",
      "{\\gradC} 16.062039281524264 & {\\gradK} 39.05720218355015 & {\\gradI} 38.61676179911783 & {\\gradB} 11.80910605528667 & {\\gradJ} 38.925735725447325 & {\\gradF} 37.52643442470734 & {\\gradA} 4.685581363559768 & {\\gradO\\bestCell{39.91779448965958}} & {\\gradN\\bestCell{39.77515788295233}} & {\\gradG} 37.91846829171353 & {\\gradH} 38.028941837882954 & {\\gradM} 39.32573626181324 & {\\gradD} 35.825093596993376 & {\\gradE} 37.17782706093058 & {\\gradL\\bestCell{39.26987836303897}}\n",
      "\\\\\n",
      " &&\n",
      "{\\gradB} 15.081061795434575 & {\\gradH} 38.24272563231973 & {\\gradN\\bestCell{39.809098547559294}} & {\\gradA} 4.826073349799207 & {\\gradM} 39.75906401529388 & {\\gradJ} 38.73593696083093 & {\\gradC\\bestCell{16.07421274942172}} & {\\gradG} 37.92121314440826 & {\\gradE} 37.22734057796887 & {\\gradO\\bestCell{39.94433834978815}} & {\\gradF} 37.49077446148982 & {\\gradL} 38.99933715593386 & {\\gradI} 38.427124158127675 & {\\gradD} 36.36895871621794 & {\\gradK} 38.97628654999753\n",
      "\\\\\n",
      " &&\n",
      "{\\gradA} 11.675033215641204 & {\\gradO\\bestCell{40.24768727443249}} & {\\gradL} 39.23213672108899 & {\\gradB\\bestCell{12.360450538869582}} & {\\gradJ} 38.87211229858171 & {\\gradE} 37.43293558234941 & {\\gradC} 15.744816948402834 & {\\gradD} 35.48349878897752 & {\\gradM} 39.31936933656737 & {\\gradI} 38.827777931260556 & {\\gradK\\bestCell{38.889215775025534}} & {\\gradH} 38.80471103669675 & {\\gradN\\bestCell{39.470229302539764}} & {\\gradF\\bestCell{38.26205563747604}} & {\\gradG} 38.2989146504183\n",
      "\\\\\n",
      "\n",
      "\n",
      "\n",
      "\n",
      "{\\gradC} 12.832246420785955 & {\\gradO} 39.281759014155845 & {\\gradK} 38.684177620677495 & {\\gradA} 9.982899964662973 & {\\gradN} 39.21222373341635 & {\\gradG} 38.36935796824011 & {\\gradB} 11.712061762308508 & {\\gradE} 37.677264960430435 & {\\gradL} 38.77160108663437 & {\\gradJ} 38.55812249968781 & {\\gradF} 38.369303068978446 & {\\gradM} 39.06346027822702 & {\\gradH} 38.407068339740846 & {\\gradD} 37.35082717559553 & {\\gradI} 38.52082894595234\n",
      "\n",
      "\n",
      "\n",
      "\n",
      "{{$\\pm$\\numprint{4.219461793490511}}} & {{$\\pm$\\numprint{0.6604638084580609}}} & {{$\\pm$\\numprint{0.9537084598415136}}} & {{$\\pm$\\numprint{2.9085880338515206}}} & {{$\\pm$\\numprint{0.5286967333351028}}} & {{$\\pm$\\numprint{0.7840827528877896}}} & {{$\\pm$\\numprint{5.084046316015852}}} & {{$\\pm$\\numprint{1.412410931220993}}} & {{$\\pm$\\numprint{0.8613617245040047}}} & {{$\\pm$\\numprint{0.7744035741642357}}} & {{$\\pm$\\numprint{0.5304783078264314}}} & {{$\\pm$\\numprint{0.7030964863791304}}} & {{$\\pm$\\numprint{1.3390894866804424}}} & {{$\\pm$\\numprint{0.6191827825676969}}} & {{$\\pm$\\numprint{0.6244561530998278}}}\n"
     ]
    }
   ],
   "source": [
    "all_wsd_f1 = np.array(get_best_models(MODELS_PATH, DATA_PATH, untuned=False))* 100\n",
    "\n",
    "shades  = np.array([get_ranks(run) for run in all_wsd_f1]).astype(int)\n",
    "best_run = all_wsd_f1.argmax(0)\n",
    "individual_cells = [[] for _ in range(5)]\n",
    "for key_idx in range(all_wsd_f1.shape[1]):\n",
    "    for run_idx in range(all_wsd_f1.shape[0]):\n",
    "        grad_cmd = grad_cmds[shades[run_idx,key_idx]]\n",
    "        score = str(all_wsd_f1[run_idx,key_idx]) \n",
    "        if best_run[key_idx] == run_idx:\n",
    "            cell_value = \"{\" + grad_cmd + \"\\\\bestCell{\" + score + \"}}\"\n",
    "        else:\n",
    "            cell_value = \"{\" + grad_cmd + \"} \" + score\n",
    "        individual_cells[run_idx].append(cell_value)\n",
    "print(*[\" &&\\n\" + \" & \".join(single_run) +\"\\n\\\\\\\\\" for single_run in individual_cells ], sep=\"\\n\")\n",
    "print(\"\\n\" *3)\n",
    "means = all_wsd_f1.mean(0)\n",
    "shades = get_ranks(means).astype(int)\n",
    "single_run = []\n",
    "for key_idx in range(all_wsd_f1.shape[1]):\n",
    "    grad_cmd = grad_cmds[shades[key_idx]]\n",
    "    score = str(means[key_idx]) \n",
    "    cell_value = \"{\" + grad_cmd + \"} \" + score\n",
    "    single_run.append(cell_value)\n",
    "print(\" & \".join(single_run), sep=\"\\n\")\n",
    "print(\"\\n\" *3)\n",
    "print(\" & \".join(\"{{$\\pm$\\\\numprint{\" + s + \"}}}\" for s in  all_wsd_f1.std(0).astype(str)))"
   ]
  },
  {
   "cell_type": "code",
   "execution_count": null,
   "id": "977ac7a3",
   "metadata": {},
   "outputs": [],
   "source": [
    "def heat_me_up_scotty(matrix_dump): # 'f1-classif-semcor.npy'\n",
    "\n",
    "    data = np.load(matrix_dump)\n",
    "    mask = np.triu(data)\n",
    "    data = data[1:,:-1]\n",
    "    mask = mask[1:,:-1]\n",
    "\n",
    "    keys_in_order = [\n",
    "        ('I',), ('H',), ('F',), ('C',),\n",
    "        ('I', 'H'), ('I', 'F'), ('I', 'C'), ('H', 'F'), ('H', 'C'), ('F', 'C'),\n",
    "        ('I', 'H', 'F'), ('I', 'H', 'C'),  ('I', 'F', 'C'), ('H', 'F', 'C'),\n",
    "        ('I', 'H', 'F', 'C')\n",
    "    ]\n",
    "\n",
    "    labels = [\"+\".join(l) for l in keys_in_order]\n",
    "\n",
    "    sns.heatmap(data, vmin=0, vmax=1, annot=True, square=True, xticklabels=labels[:-1], yticklabels=labels[1:], cmap=\"flare\", mask=mask, cbar=False)"
   ]
  },
  {
   "cell_type": "code",
   "execution_count": null,
   "id": "c163ef9e",
   "metadata": {},
   "outputs": [],
   "source": [
    "heat_me_up_scotty('../data/f1-classif-semcor.npy')\n"
   ]
  },
  {
   "cell_type": "code",
   "execution_count": null,
   "id": "c4307b78",
   "metadata": {},
   "outputs": [],
   "source": [
    "heat_me_up_scotty('../data/f1-knn5-semcor.npy')"
   ]
  },
  {
   "cell_type": "code",
   "execution_count": null,
   "id": "31c2c0be",
   "metadata": {},
   "outputs": [],
   "source": [
    "heat_me_up_scotty('../data/f1-classif-ritter-untuned.npy')"
   ]
  },
  {
   "cell_type": "code",
   "execution_count": null,
   "id": "7d9443a1",
   "metadata": {},
   "outputs": [],
   "source": [
    "heat_me_up_scotty('../data/f1-classif-ritter-tuned.npy')"
   ]
  }
 ],
 "metadata": {
  "kernelspec": {
   "display_name": "Python 3 (ipykernel)",
   "language": "python",
   "name": "python3"
  },
  "language_info": {
   "codemirror_mode": {
    "name": "ipython",
    "version": 3
   },
   "file_extension": ".py",
   "mimetype": "text/x-python",
   "name": "python",
   "nbconvert_exporter": "python",
   "pygments_lexer": "ipython3",
   "version": "3.8.10"
  }
 },
 "nbformat": 4,
 "nbformat_minor": 5
}
